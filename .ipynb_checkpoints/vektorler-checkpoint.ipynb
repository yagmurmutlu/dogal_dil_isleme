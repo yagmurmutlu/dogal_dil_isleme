{
 "cells": [
  {
   "cell_type": "code",
   "execution_count": 12,
   "id": "d9b4a23f-3e2f-4c96-a088-2a5b4ed6c11e",
   "metadata": {},
   "outputs": [
    {
     "ename": "ImportError",
     "evalue": "cannot import name 'CountVectorizer' from 'sklearn.feature_extraction' (C:\\Users\\Lenovo\\anaconda3\\lib\\site-packages\\sklearn\\feature_extraction\\__init__.py)",
     "output_type": "error",
     "traceback": [
      "\u001b[1;31m---------------------------------------------------------------------------\u001b[0m",
      "\u001b[1;31mImportError\u001b[0m                               Traceback (most recent call last)",
      "\u001b[1;32m~\\AppData\\Local\\Temp\\ipykernel_21108\\2108876200.py\u001b[0m in \u001b[0;36m<module>\u001b[1;34m\u001b[0m\n\u001b[1;32m----> 1\u001b[1;33m \u001b[1;32mfrom\u001b[0m \u001b[0msklearn\u001b[0m\u001b[1;33m.\u001b[0m\u001b[0mfeature_extraction\u001b[0m \u001b[1;32mimport\u001b[0m \u001b[0mCountVectorizer\u001b[0m\u001b[1;33m\u001b[0m\u001b[1;33m\u001b[0m\u001b[0m\n\u001b[0m",
      "\u001b[1;31mImportError\u001b[0m: cannot import name 'CountVectorizer' from 'sklearn.feature_extraction' (C:\\Users\\Lenovo\\anaconda3\\lib\\site-packages\\sklearn\\feature_extraction\\__init__.py)"
     ]
    }
   ],
   "source": [
    "from sklearn.feature_extraction import CountVectorizer\n"
   ]
  },
  {
   "cell_type": "code",
   "execution_count": 16,
   "id": "30af1b64-ab08-474f-8bde-24b5685a199c",
   "metadata": {},
   "outputs": [],
   "source": [
    "import pandas as pd"
   ]
  },
  {
   "cell_type": "code",
   "execution_count": 17,
   "id": "ff99fd04-ec76-47b2-94b5-f639d3ded31f",
   "metadata": {},
   "outputs": [],
   "source": [
    "df=pd.read_csv(\"data/nlp.csv\",index_col=0)"
   ]
  },
  {
   "cell_type": "code",
   "execution_count": 18,
   "id": "03f49583-b103-41c6-905d-976ed6421a64",
   "metadata": {},
   "outputs": [],
   "source": [
    "from gensim.models import Word2Vec"
   ]
  },
  {
   "cell_type": "code",
   "execution_count": 19,
   "id": "4ab4f02e-7e6a-402b-a365-6e1f780a806e",
   "metadata": {},
   "outputs": [
    {
     "data": {
      "text/html": [
       "<div>\n",
       "<style scoped>\n",
       "    .dataframe tbody tr th:only-of-type {\n",
       "        vertical-align: middle;\n",
       "    }\n",
       "\n",
       "    .dataframe tbody tr th {\n",
       "        vertical-align: top;\n",
       "    }\n",
       "\n",
       "    .dataframe thead th {\n",
       "        text-align: right;\n",
       "    }\n",
       "</style>\n",
       "<table border=\"1\" class=\"dataframe\">\n",
       "  <thead>\n",
       "    <tr style=\"text-align: right;\">\n",
       "      <th></th>\n",
       "      <th>Text</th>\n",
       "    </tr>\n",
       "  </thead>\n",
       "  <tbody>\n",
       "    <tr>\n",
       "      <th>0</th>\n",
       "      <td>Yapay Zeka Nedir, Ne İşe Yarar?\\n\\nYapay zeka ...</td>\n",
       "    </tr>\n",
       "    <tr>\n",
       "      <th>1</th>\n",
       "      <td>🔎 Verilerinizi analiz edin: \\nChatGPT'yi kulla...</td>\n",
       "    </tr>\n",
       "    <tr>\n",
       "      <th>2</th>\n",
       "      <td>Öncelikle yapay zekanın ne olduğunu, #dijitala...</td>\n",
       "    </tr>\n",
       "    <tr>\n",
       "      <th>3</th>\n",
       "      <td>9. Baidu Research: Çin'in önde gelen arama mot...</td>\n",
       "    </tr>\n",
       "    <tr>\n",
       "      <th>4</th>\n",
       "      <td>4. Microsoft AI: Microsoft'un yapay zeka tekno...</td>\n",
       "    </tr>\n",
       "  </tbody>\n",
       "</table>\n",
       "</div>"
      ],
      "text/plain": [
       "                                                Text\n",
       "0  Yapay Zeka Nedir, Ne İşe Yarar?\\n\\nYapay zeka ...\n",
       "1  🔎 Verilerinizi analiz edin: \\nChatGPT'yi kulla...\n",
       "2  Öncelikle yapay zekanın ne olduğunu, #dijitala...\n",
       "3  9. Baidu Research: Çin'in önde gelen arama mot...\n",
       "4  4. Microsoft AI: Microsoft'un yapay zeka tekno..."
      ]
     },
     "execution_count": 19,
     "metadata": {},
     "output_type": "execute_result"
    }
   ],
   "source": [
    "df.head()"
   ]
  },
  {
   "cell_type": "code",
   "execution_count": 24,
   "id": "cd61b9ca-df8c-4163-944c-b76eb9f04e0d",
   "metadata": {},
   "outputs": [],
   "source": [
    "import on_islem"
   ]
  },
  {
   "cell_type": "code",
   "execution_count": 25,
   "id": "0e2fda40-1214-47f8-97bf-b0f501151658",
   "metadata": {},
   "outputs": [],
   "source": [
    "df[\"Text_2\"]=df[\"Text\"].apply(on_islem.pre_processing)\n",
    "df[\"Text_2\"]=df[\"Text_2\"].apply(on_islem.remove_space)"
   ]
  },
  {
   "cell_type": "code",
   "execution_count": null,
   "id": "482b141c-c896-48b9-a77a-85f88e2b1c66",
   "metadata": {},
   "outputs": [],
   "source": [
    "df.head()"
   ]
  },
  {
   "cell_type": "code",
   "execution_count": null,
   "id": "4f5d8e70-49ff-4f0c-bb11-973aa875ae1d",
   "metadata": {},
   "outputs": [],
   "source": [
    "#boş liste kontrolü\n",
    "\n",
    "df[df[\"Text_2\"].str[0].isnull()]"
   ]
  },
  {
   "cell_type": "code",
   "execution_count": 32,
   "id": "f71f5f8d-de87-412c-a42e-22eadd2793d8",
   "metadata": {},
   "outputs": [
    {
     "data": {
      "text/html": [
       "<div>\n",
       "<style scoped>\n",
       "    .dataframe tbody tr th:only-of-type {\n",
       "        vertical-align: middle;\n",
       "    }\n",
       "\n",
       "    .dataframe tbody tr th {\n",
       "        vertical-align: top;\n",
       "    }\n",
       "\n",
       "    .dataframe thead th {\n",
       "        text-align: right;\n",
       "    }\n",
       "</style>\n",
       "<table border=\"1\" class=\"dataframe\">\n",
       "  <thead>\n",
       "    <tr style=\"text-align: right;\">\n",
       "      <th></th>\n",
       "      <th>Text</th>\n",
       "      <th>Text_2</th>\n",
       "    </tr>\n",
       "  </thead>\n",
       "  <tbody>\n",
       "  </tbody>\n",
       "</table>\n",
       "</div>"
      ],
      "text/plain": [
       "Empty DataFrame\n",
       "Columns: [Text, Text_2]\n",
       "Index: []"
      ]
     },
     "execution_count": 32,
     "metadata": {},
     "output_type": "execute_result"
    }
   ],
   "source": [
    "df_index = df[df[\"Text_2\"].str[0].isnull()].index\n",
    "df = df.drop(df_index)\n",
    "df = df.reset_index()\n",
    "\n",
    "# Remove the line below if the index column is not needed\n",
    "del df[\"index\"]\n",
    "\n",
    "\n",
    "\n",
    "df[df[\"Text_2\"].str[0].isnull()]\n"
   ]
  },
  {
   "cell_type": "code",
   "execution_count": 33,
   "id": "331b6dbd-b900-4b91-a060-313af3575a30",
   "metadata": {},
   "outputs": [
    {
     "data": {
      "text/html": [
       "<div>\n",
       "<style scoped>\n",
       "    .dataframe tbody tr th:only-of-type {\n",
       "        vertical-align: middle;\n",
       "    }\n",
       "\n",
       "    .dataframe tbody tr th {\n",
       "        vertical-align: top;\n",
       "    }\n",
       "\n",
       "    .dataframe thead th {\n",
       "        text-align: right;\n",
       "    }\n",
       "</style>\n",
       "<table border=\"1\" class=\"dataframe\">\n",
       "  <thead>\n",
       "    <tr style=\"text-align: right;\">\n",
       "      <th></th>\n",
       "      <th>Text</th>\n",
       "      <th>Text_2</th>\n",
       "    </tr>\n",
       "  </thead>\n",
       "  <tbody>\n",
       "    <tr>\n",
       "      <th>0</th>\n",
       "      <td>Yapay Zeka Nedir, Ne İşe Yarar?\\n\\nYapay zeka ...</td>\n",
       "      <td>[yapay, zeka, nedir, ne, işe, yarar, yapay, ze...</td>\n",
       "    </tr>\n",
       "    <tr>\n",
       "      <th>1</th>\n",
       "      <td>🔎 Verilerinizi analiz edin: \\nChatGPT'yi kulla...</td>\n",
       "      <td>[, veri, analiz, edin, chatgptyi, kullanarak, ...</td>\n",
       "    </tr>\n",
       "    <tr>\n",
       "      <th>2</th>\n",
       "      <td>Öncelikle yapay zekanın ne olduğunu, #dijitala...</td>\n",
       "      <td>[öncelik, yapay, zeka, ne, olduğunu, , iç, ne,...</td>\n",
       "    </tr>\n",
       "    <tr>\n",
       "      <th>3</th>\n",
       "      <td>9. Baidu Research: Çin'in önde gelen arama mot...</td>\n",
       "      <td>[, baidu, research, çin, ön, gele, ara, motor,...</td>\n",
       "    </tr>\n",
       "    <tr>\n",
       "      <th>4</th>\n",
       "      <td>4. Microsoft AI: Microsoft'un yapay zeka tekno...</td>\n",
       "      <td>[, microsoft, ai, microsoft, yapay, zeka, tekn...</td>\n",
       "    </tr>\n",
       "  </tbody>\n",
       "</table>\n",
       "</div>"
      ],
      "text/plain": [
       "                                                Text  \\\n",
       "0  Yapay Zeka Nedir, Ne İşe Yarar?\\n\\nYapay zeka ...   \n",
       "1  🔎 Verilerinizi analiz edin: \\nChatGPT'yi kulla...   \n",
       "2  Öncelikle yapay zekanın ne olduğunu, #dijitala...   \n",
       "3  9. Baidu Research: Çin'in önde gelen arama mot...   \n",
       "4  4. Microsoft AI: Microsoft'un yapay zeka tekno...   \n",
       "\n",
       "                                              Text_2  \n",
       "0  [yapay, zeka, nedir, ne, işe, yarar, yapay, ze...  \n",
       "1  [, veri, analiz, edin, chatgptyi, kullanarak, ...  \n",
       "2  [öncelik, yapay, zeka, ne, olduğunu, , iç, ne,...  \n",
       "3  [, baidu, research, çin, ön, gele, ara, motor,...  \n",
       "4  [, microsoft, ai, microsoft, yapay, zeka, tekn...  "
      ]
     },
     "execution_count": 33,
     "metadata": {},
     "output_type": "execute_result"
    }
   ],
   "source": [
    "df.head()"
   ]
  },
  {
   "cell_type": "code",
   "execution_count": 34,
   "id": "3a7fc7c4-5192-4cc8-8f95-8d400ab46581",
   "metadata": {},
   "outputs": [],
   "source": [
    "model = Word2Vec(sentences=df[\"Text_2\"].tolist(), vector_size=100, window=5, min_count=1)\n",
    "\n",
    "model.save(\"data/word2Vec.model\")"
   ]
  },
  {
   "cell_type": "code",
   "execution_count": 35,
   "id": "3bb701af-6e2d-4677-b7f2-91c7da7d7c86",
   "metadata": {},
   "outputs": [
    {
     "name": "stdout",
     "output_type": "stream",
     "text": [
      "Word2Vec(vocab=4827, vector_size=100, alpha=0.025)\n"
     ]
    }
   ],
   "source": [
    "print(model)"
   ]
  },
  {
   "cell_type": "code",
   "execution_count": 37,
   "id": "d6d2da32-fde4-47bb-bb2f-c95fafc2455f",
   "metadata": {},
   "outputs": [
    {
     "data": {
      "text/plain": [
       "['', 'dil', 'doğal', 'işle', 've', 'bir']"
      ]
     },
     "execution_count": 37,
     "metadata": {},
     "output_type": "execute_result"
    }
   ],
   "source": [
    "words =list(model.wv.index_to_key)\n",
    "words[0:6]"
   ]
  },
  {
   "cell_type": "code",
   "execution_count": 38,
   "id": "3efb5ac8-5b31-48fb-8375-eb454eca0bb8",
   "metadata": {},
   "outputs": [
    {
     "data": {
      "text/plain": [
       "4827"
      ]
     },
     "execution_count": 38,
     "metadata": {},
     "output_type": "execute_result"
    }
   ],
   "source": [
    "len(words)"
   ]
  },
  {
   "cell_type": "code",
   "execution_count": 39,
   "id": "baac43c6-08c3-49c4-bd58-5bdcbc7674eb",
   "metadata": {},
   "outputs": [
    {
     "data": {
      "text/html": [
       "<div>\n",
       "<style scoped>\n",
       "    .dataframe tbody tr th:only-of-type {\n",
       "        vertical-align: middle;\n",
       "    }\n",
       "\n",
       "    .dataframe tbody tr th {\n",
       "        vertical-align: top;\n",
       "    }\n",
       "\n",
       "    .dataframe thead th {\n",
       "        text-align: right;\n",
       "    }\n",
       "</style>\n",
       "<table border=\"1\" class=\"dataframe\">\n",
       "  <thead>\n",
       "    <tr style=\"text-align: right;\">\n",
       "      <th></th>\n",
       "      <th>Text</th>\n",
       "      <th>Text_2</th>\n",
       "    </tr>\n",
       "  </thead>\n",
       "  <tbody>\n",
       "    <tr>\n",
       "      <th>0</th>\n",
       "      <td>Yapay Zeka Nedir, Ne İşe Yarar?\\n\\nYapay zeka ...</td>\n",
       "      <td>[yapay, zeka, nedir, ne, işe, yarar, yapay, ze...</td>\n",
       "    </tr>\n",
       "    <tr>\n",
       "      <th>1</th>\n",
       "      <td>🔎 Verilerinizi analiz edin: \\nChatGPT'yi kulla...</td>\n",
       "      <td>[, veri, analiz, edin, chatgptyi, kullanarak, ...</td>\n",
       "    </tr>\n",
       "    <tr>\n",
       "      <th>2</th>\n",
       "      <td>Öncelikle yapay zekanın ne olduğunu, #dijitala...</td>\n",
       "      <td>[öncelik, yapay, zeka, ne, olduğunu, , iç, ne,...</td>\n",
       "    </tr>\n",
       "    <tr>\n",
       "      <th>3</th>\n",
       "      <td>9. Baidu Research: Çin'in önde gelen arama mot...</td>\n",
       "      <td>[, baidu, research, çin, ön, gele, ara, motor,...</td>\n",
       "    </tr>\n",
       "    <tr>\n",
       "      <th>4</th>\n",
       "      <td>4. Microsoft AI: Microsoft'un yapay zeka tekno...</td>\n",
       "      <td>[, microsoft, ai, microsoft, yapay, zeka, tekn...</td>\n",
       "    </tr>\n",
       "    <tr>\n",
       "      <th>...</th>\n",
       "      <td>...</td>\n",
       "      <td>...</td>\n",
       "    </tr>\n",
       "    <tr>\n",
       "      <th>853</th>\n",
       "      <td>doğal dil işleme alanında yüksek lisans-doktor...</td>\n",
       "      <td>[doğal, dil, işle, alan, yük, lisansdoktor, ya...</td>\n",
       "    </tr>\n",
       "    <tr>\n",
       "      <th>854</th>\n",
       "      <td>dogal dil isleme şeyleri</td>\n",
       "      <td>[dogal, dil, isle, şey]</td>\n",
       "    </tr>\n",
       "    <tr>\n",
       "      <th>855</th>\n",
       "      <td>Bir veri madenciliği ve doğal dil işleme uygul...</td>\n",
       "      <td>[bir, ver, madencilik, ve, doğal, dil, işle, u...</td>\n",
       "    </tr>\n",
       "    <tr>\n",
       "      <th>856</th>\n",
       "      <td>\"Doğal dil işleme\" ile ilgili deneyimi olan ya...</td>\n",
       "      <td>[doğal, dil, işleme, il, ilgil, deney, ola, ya...</td>\n",
       "    </tr>\n",
       "    <tr>\n",
       "      <th>857</th>\n",
       "      <td>Haftaya öğrencilik hayatıma kaldığım yerden de...</td>\n",
       "      <td>[hafta, öğrencilik, hayat, kaldık, yer, deva, ...</td>\n",
       "    </tr>\n",
       "  </tbody>\n",
       "</table>\n",
       "<p>858 rows × 2 columns</p>\n",
       "</div>"
      ],
      "text/plain": [
       "                                                  Text  \\\n",
       "0    Yapay Zeka Nedir, Ne İşe Yarar?\\n\\nYapay zeka ...   \n",
       "1    🔎 Verilerinizi analiz edin: \\nChatGPT'yi kulla...   \n",
       "2    Öncelikle yapay zekanın ne olduğunu, #dijitala...   \n",
       "3    9. Baidu Research: Çin'in önde gelen arama mot...   \n",
       "4    4. Microsoft AI: Microsoft'un yapay zeka tekno...   \n",
       "..                                                 ...   \n",
       "853  doğal dil işleme alanında yüksek lisans-doktor...   \n",
       "854                           dogal dil isleme şeyleri   \n",
       "855  Bir veri madenciliği ve doğal dil işleme uygul...   \n",
       "856  \"Doğal dil işleme\" ile ilgili deneyimi olan ya...   \n",
       "857  Haftaya öğrencilik hayatıma kaldığım yerden de...   \n",
       "\n",
       "                                                Text_2  \n",
       "0    [yapay, zeka, nedir, ne, işe, yarar, yapay, ze...  \n",
       "1    [, veri, analiz, edin, chatgptyi, kullanarak, ...  \n",
       "2    [öncelik, yapay, zeka, ne, olduğunu, , iç, ne,...  \n",
       "3    [, baidu, research, çin, ön, gele, ara, motor,...  \n",
       "4    [, microsoft, ai, microsoft, yapay, zeka, tekn...  \n",
       "..                                                 ...  \n",
       "853  [doğal, dil, işle, alan, yük, lisansdoktor, ya...  \n",
       "854                            [dogal, dil, isle, şey]  \n",
       "855  [bir, ver, madencilik, ve, doğal, dil, işle, u...  \n",
       "856  [doğal, dil, işleme, il, ilgil, deney, ola, ya...  \n",
       "857  [hafta, öğrencilik, hayat, kaldık, yer, deva, ...  \n",
       "\n",
       "[858 rows x 2 columns]"
      ]
     },
     "execution_count": 39,
     "metadata": {},
     "output_type": "execute_result"
    }
   ],
   "source": [
    "df"
   ]
  },
  {
   "cell_type": "code",
   "execution_count": 40,
   "id": "0edb1b72-0071-4e84-9f70-aec29a927b02",
   "metadata": {},
   "outputs": [
    {
     "data": {
      "text/plain": [
       "6"
      ]
     },
     "execution_count": 40,
     "metadata": {},
     "output_type": "execute_result"
    }
   ],
   "source": [
    "model.wv.key_to_index[\"yapay\"]"
   ]
  },
  {
   "cell_type": "code",
   "execution_count": 41,
   "id": "03538692-e33c-4b48-b679-b5e751a7229e",
   "metadata": {},
   "outputs": [
    {
     "data": {
      "text/plain": [
       "array([-1.87637597e-01,  4.42505121e-01,  1.28951371e-01,  2.12100078e-03,\n",
       "        2.63255060e-01, -5.96896768e-01,  2.31374174e-01,  9.60143387e-01,\n",
       "       -5.86339951e-01, -3.55845749e-01, -6.36968240e-02, -6.62793517e-01,\n",
       "       -2.75648441e-02,  1.87732920e-01,  2.95865327e-01, -2.35051379e-01,\n",
       "        1.93959787e-01, -2.55516648e-01, -1.47441532e-02, -7.97434270e-01,\n",
       "        2.55691856e-01, -1.13018304e-01,  3.63558948e-01, -3.60204399e-01,\n",
       "       -2.83467680e-01,  8.70077237e-02, -1.24034010e-01, -1.37733445e-02,\n",
       "       -4.19515073e-01,  9.18349102e-02,  6.64663255e-01, -8.64408910e-02,\n",
       "        2.87294298e-01, -6.69261098e-01,  8.66930757e-04,  3.87168497e-01,\n",
       "        1.65918812e-01, -2.62000896e-02, -2.10907489e-01, -3.76421422e-01,\n",
       "        2.68896490e-01, -4.36552316e-01, -1.35939643e-01,  4.02180851e-02,\n",
       "        4.31858391e-01, -2.59844959e-01, -3.00924540e-01, -1.82364181e-01,\n",
       "        3.23392779e-01,  2.57793427e-01,  3.86733860e-01, -2.89065242e-01,\n",
       "       -1.45688310e-01,  6.67976141e-02, -1.29373685e-01,  3.08400303e-01,\n",
       "        1.93078548e-01, -1.26926333e-01, -3.28792781e-01,  2.13924497e-01,\n",
       "        1.79902568e-01,  1.47313267e-01,  1.01664126e-01,  1.09326847e-01,\n",
       "       -3.75714839e-01,  4.85521853e-01,  1.57142714e-01,  3.33840221e-01,\n",
       "       -4.78277922e-01,  2.53789395e-01, -1.81974426e-01,  1.85159490e-01,\n",
       "        6.13739908e-01,  1.55411646e-01,  3.63947332e-01,  2.24681586e-01,\n",
       "        1.25488177e-01,  2.40507841e-01, -3.75306666e-01, -1.05052888e-01,\n",
       "       -3.40545654e-01, -5.00362739e-02, -1.78824201e-01,  4.02408957e-01,\n",
       "       -1.23762608e-01, -1.37657732e-01,  1.52192423e-02,  5.55908799e-01,\n",
       "        4.82773244e-01, -3.13689783e-02,  4.82784510e-01, -4.65232767e-02,\n",
       "        1.59599751e-01,  8.85402709e-02,  6.14572763e-01,  3.12482148e-01,\n",
       "        3.15594673e-01, -2.50909001e-01,  6.85849115e-02, -3.90949398e-02],\n",
       "      dtype=float32)"
      ]
     },
     "execution_count": 41,
     "metadata": {},
     "output_type": "execute_result"
    }
   ],
   "source": [
    "model.wv[2]"
   ]
  },
  {
   "cell_type": "code",
   "execution_count": 43,
   "id": "a0f97b63-dfab-4851-8e98-41173f22dcfa",
   "metadata": {},
   "outputs": [
    {
     "data": {
      "text/plain": [
       "array([-0.19361101,  0.4719678 ,  0.1496511 ,  0.00418468,  0.2821748 ,\n",
       "       -0.6687869 ,  0.27085927,  1.054368  , -0.64140856, -0.40448815,\n",
       "       -0.0601702 , -0.7286953 , -0.04678446,  0.21588527,  0.31040713,\n",
       "       -0.25668925,  0.21329467, -0.28445718, -0.00236816, -0.8897654 ,\n",
       "        0.29771692, -0.12366585,  0.41729653, -0.38150796, -0.32481977,\n",
       "        0.09995101, -0.1483281 , -0.03085561, -0.45451713,  0.0925042 ,\n",
       "        0.7373293 , -0.07208948,  0.32659164, -0.7281181 ,  0.00415613,\n",
       "        0.4379316 ,  0.17329367, -0.04473954, -0.24588293, -0.4265774 ,\n",
       "        0.3197778 , -0.49614832, -0.13914987,  0.02719144,  0.48078048,\n",
       "       -0.28145224, -0.3434618 , -0.21721524,  0.3570245 ,  0.2803129 ,\n",
       "        0.42174384, -0.3274181 , -0.15917931,  0.08791543, -0.14344682,\n",
       "        0.33644316,  0.21283378, -0.14797568, -0.36138353,  0.23183493,\n",
       "        0.19301257,  0.15933853,  0.10847437,  0.11780551, -0.4108696 ,\n",
       "        0.53227687,  0.15266451,  0.35723898, -0.528449  ,  0.26682162,\n",
       "       -0.21397172,  0.20646834,  0.6698875 ,  0.1770568 ,  0.418379  ,\n",
       "        0.2332696 ,  0.13095132,  0.2719908 , -0.41836095, -0.10746312,\n",
       "       -0.36640295, -0.05678089, -0.1975291 ,  0.4495857 , -0.13796385,\n",
       "       -0.1505043 ,  0.03172062,  0.61933684,  0.5176722 , -0.03130772,\n",
       "        0.5348869 , -0.05964461,  0.15955116,  0.10584018,  0.6655756 ,\n",
       "        0.3394941 ,  0.35236454, -0.28539327,  0.06754184, -0.03193067],\n",
       "      dtype=float32)"
      ]
     },
     "execution_count": 43,
     "metadata": {},
     "output_type": "execute_result"
    }
   ],
   "source": [
    "model.wv.get_vector(\"yapay\")"
   ]
  },
  {
   "cell_type": "code",
   "execution_count": 44,
   "id": "8ec76111-730f-40b6-b269-32e9bc633df1",
   "metadata": {},
   "outputs": [],
   "source": [
    "def word2Vec(value):\n",
    "    model= Word2Vec.load(\"data/word2Vec.model\")\n",
    "    bfr_list =[]\n",
    "    bfr_len =len(value)\n",
    "    \n",
    "    for k in value:\n",
    "        bfr=model.wv.key_to_index[k]\n",
    "        bfr=model.wv[bfr]\n",
    "        bfr_list.append(bfr)\n",
    "        \n",
    "    bfr_list=sum(bfr_list)\n",
    "    bfr_list=bfr_list/bfr_len\n",
    "    return bfr_list.tolist()\n"
   ]
  },
  {
   "cell_type": "code",
   "execution_count": 45,
   "id": "aabc35c3-4a15-4557-a94c-40723be29066",
   "metadata": {},
   "outputs": [
    {
     "data": {
      "text/html": [
       "<div>\n",
       "<style scoped>\n",
       "    .dataframe tbody tr th:only-of-type {\n",
       "        vertical-align: middle;\n",
       "    }\n",
       "\n",
       "    .dataframe tbody tr th {\n",
       "        vertical-align: top;\n",
       "    }\n",
       "\n",
       "    .dataframe thead th {\n",
       "        text-align: right;\n",
       "    }\n",
       "</style>\n",
       "<table border=\"1\" class=\"dataframe\">\n",
       "  <thead>\n",
       "    <tr style=\"text-align: right;\">\n",
       "      <th></th>\n",
       "      <th>Text</th>\n",
       "      <th>Text_2</th>\n",
       "    </tr>\n",
       "  </thead>\n",
       "  <tbody>\n",
       "    <tr>\n",
       "      <th>0</th>\n",
       "      <td>Yapay Zeka Nedir, Ne İşe Yarar?\\n\\nYapay zeka ...</td>\n",
       "      <td>[yapay, zeka, nedir, ne, işe, yarar, yapay, ze...</td>\n",
       "    </tr>\n",
       "    <tr>\n",
       "      <th>1</th>\n",
       "      <td>🔎 Verilerinizi analiz edin: \\nChatGPT'yi kulla...</td>\n",
       "      <td>[, veri, analiz, edin, chatgptyi, kullanarak, ...</td>\n",
       "    </tr>\n",
       "    <tr>\n",
       "      <th>2</th>\n",
       "      <td>Öncelikle yapay zekanın ne olduğunu, #dijitala...</td>\n",
       "      <td>[öncelik, yapay, zeka, ne, olduğunu, , iç, ne,...</td>\n",
       "    </tr>\n",
       "    <tr>\n",
       "      <th>3</th>\n",
       "      <td>9. Baidu Research: Çin'in önde gelen arama mot...</td>\n",
       "      <td>[, baidu, research, çin, ön, gele, ara, motor,...</td>\n",
       "    </tr>\n",
       "    <tr>\n",
       "      <th>4</th>\n",
       "      <td>4. Microsoft AI: Microsoft'un yapay zeka tekno...</td>\n",
       "      <td>[, microsoft, ai, microsoft, yapay, zeka, tekn...</td>\n",
       "    </tr>\n",
       "  </tbody>\n",
       "</table>\n",
       "</div>"
      ],
      "text/plain": [
       "                                                Text  \\\n",
       "0  Yapay Zeka Nedir, Ne İşe Yarar?\\n\\nYapay zeka ...   \n",
       "1  🔎 Verilerinizi analiz edin: \\nChatGPT'yi kulla...   \n",
       "2  Öncelikle yapay zekanın ne olduğunu, #dijitala...   \n",
       "3  9. Baidu Research: Çin'in önde gelen arama mot...   \n",
       "4  4. Microsoft AI: Microsoft'un yapay zeka tekno...   \n",
       "\n",
       "                                              Text_2  \n",
       "0  [yapay, zeka, nedir, ne, işe, yarar, yapay, ze...  \n",
       "1  [, veri, analiz, edin, chatgptyi, kullanarak, ...  \n",
       "2  [öncelik, yapay, zeka, ne, olduğunu, , iç, ne,...  \n",
       "3  [, baidu, research, çin, ön, gele, ara, motor,...  \n",
       "4  [, microsoft, ai, microsoft, yapay, zeka, tekn...  "
      ]
     },
     "execution_count": 45,
     "metadata": {},
     "output_type": "execute_result"
    }
   ],
   "source": [
    "df.head()"
   ]
  },
  {
   "cell_type": "code",
   "execution_count": 47,
   "id": "6d313f9f-4d14-458f-939f-0ba3cf526ea4",
   "metadata": {},
   "outputs": [],
   "source": [
    "df[\"Text_6\"]=df[\"Text_2\"].apply(word2Vec)"
   ]
  },
  {
   "cell_type": "code",
   "execution_count": 49,
   "id": "b582aa39-e454-46f6-9371-aa75b7b45709",
   "metadata": {},
   "outputs": [
    {
     "data": {
      "text/html": [
       "<div>\n",
       "<style scoped>\n",
       "    .dataframe tbody tr th:only-of-type {\n",
       "        vertical-align: middle;\n",
       "    }\n",
       "\n",
       "    .dataframe tbody tr th {\n",
       "        vertical-align: top;\n",
       "    }\n",
       "\n",
       "    .dataframe thead th {\n",
       "        text-align: right;\n",
       "    }\n",
       "</style>\n",
       "<table border=\"1\" class=\"dataframe\">\n",
       "  <thead>\n",
       "    <tr style=\"text-align: right;\">\n",
       "      <th></th>\n",
       "      <th>Text</th>\n",
       "      <th>Text_2</th>\n",
       "      <th>Text_6</th>\n",
       "    </tr>\n",
       "  </thead>\n",
       "  <tbody>\n",
       "    <tr>\n",
       "      <th>0</th>\n",
       "      <td>Yapay Zeka Nedir, Ne İşe Yarar?\\n\\nYapay zeka ...</td>\n",
       "      <td>[yapay, zeka, nedir, ne, işe, yarar, yapay, ze...</td>\n",
       "      <td>[-0.10637630522251129, 0.2513950765132904, 0.0...</td>\n",
       "    </tr>\n",
       "    <tr>\n",
       "      <th>1</th>\n",
       "      <td>🔎 Verilerinizi analiz edin: \\nChatGPT'yi kulla...</td>\n",
       "      <td>[, veri, analiz, edin, chatgptyi, kullanarak, ...</td>\n",
       "      <td>[-0.08736097067594528, 0.2035946547985077, 0.0...</td>\n",
       "    </tr>\n",
       "    <tr>\n",
       "      <th>2</th>\n",
       "      <td>Öncelikle yapay zekanın ne olduğunu, #dijitala...</td>\n",
       "      <td>[öncelik, yapay, zeka, ne, olduğunu, , iç, ne,...</td>\n",
       "      <td>[-0.10008075833320618, 0.23675128817558289, 0....</td>\n",
       "    </tr>\n",
       "    <tr>\n",
       "      <th>3</th>\n",
       "      <td>9. Baidu Research: Çin'in önde gelen arama mot...</td>\n",
       "      <td>[, baidu, research, çin, ön, gele, ara, motor,...</td>\n",
       "      <td>[-0.09478870779275894, 0.22382663190364838, 0....</td>\n",
       "    </tr>\n",
       "    <tr>\n",
       "      <th>4</th>\n",
       "      <td>4. Microsoft AI: Microsoft'un yapay zeka tekno...</td>\n",
       "      <td>[, microsoft, ai, microsoft, yapay, zeka, tekn...</td>\n",
       "      <td>[-0.12644809484481812, 0.2962251603603363, 0.0...</td>\n",
       "    </tr>\n",
       "  </tbody>\n",
       "</table>\n",
       "</div>"
      ],
      "text/plain": [
       "                                                Text  \\\n",
       "0  Yapay Zeka Nedir, Ne İşe Yarar?\\n\\nYapay zeka ...   \n",
       "1  🔎 Verilerinizi analiz edin: \\nChatGPT'yi kulla...   \n",
       "2  Öncelikle yapay zekanın ne olduğunu, #dijitala...   \n",
       "3  9. Baidu Research: Çin'in önde gelen arama mot...   \n",
       "4  4. Microsoft AI: Microsoft'un yapay zeka tekno...   \n",
       "\n",
       "                                              Text_2  \\\n",
       "0  [yapay, zeka, nedir, ne, işe, yarar, yapay, ze...   \n",
       "1  [, veri, analiz, edin, chatgptyi, kullanarak, ...   \n",
       "2  [öncelik, yapay, zeka, ne, olduğunu, , iç, ne,...   \n",
       "3  [, baidu, research, çin, ön, gele, ara, motor,...   \n",
       "4  [, microsoft, ai, microsoft, yapay, zeka, tekn...   \n",
       "\n",
       "                                              Text_6  \n",
       "0  [-0.10637630522251129, 0.2513950765132904, 0.0...  \n",
       "1  [-0.08736097067594528, 0.2035946547985077, 0.0...  \n",
       "2  [-0.10008075833320618, 0.23675128817558289, 0....  \n",
       "3  [-0.09478870779275894, 0.22382663190364838, 0....  \n",
       "4  [-0.12644809484481812, 0.2962251603603363, 0.0...  "
      ]
     },
     "execution_count": 49,
     "metadata": {},
     "output_type": "execute_result"
    }
   ],
   "source": [
    "df.head()"
   ]
  },
  {
   "cell_type": "code",
   "execution_count": null,
   "id": "8b27a171-0b31-47cf-aedc-daaa6f55fdec",
   "metadata": {},
   "outputs": [],
   "source": []
  }
 ],
 "metadata": {
  "kernelspec": {
   "display_name": "Python 3 (ipykernel)",
   "language": "python",
   "name": "python3"
  },
  "language_info": {
   "codemirror_mode": {
    "name": "ipython",
    "version": 3
   },
   "file_extension": ".py",
   "mimetype": "text/x-python",
   "name": "python",
   "nbconvert_exporter": "python",
   "pygments_lexer": "ipython3",
   "version": "3.9.13"
  }
 },
 "nbformat": 4,
 "nbformat_minor": 5
}
