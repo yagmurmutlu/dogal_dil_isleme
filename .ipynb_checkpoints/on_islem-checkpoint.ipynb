{
 "cells": [
  {
   "cell_type": "code",
   "execution_count": 20,
   "id": "c2396de3-38bd-422f-8ae6-e9d6827e1fde",
   "metadata": {},
   "outputs": [],
   "source": [
    "import pandas as pd"
   ]
  },
  {
   "cell_type": "code",
   "execution_count": 21,
   "id": "bb607e64-a3ca-4a52-be05-d0d5e9553c99",
   "metadata": {},
   "outputs": [],
   "source": [
    "df=pd.read_csv(\"data/nlp.csv\",index_col=0)"
   ]
  },
  {
   "cell_type": "code",
   "execution_count": 22,
   "id": "d7e0f1fb-67c3-41db-be8d-4606147cd6a3",
   "metadata": {},
   "outputs": [
    {
     "data": {
      "text/html": [
       "<div>\n",
       "<style scoped>\n",
       "    .dataframe tbody tr th:only-of-type {\n",
       "        vertical-align: middle;\n",
       "    }\n",
       "\n",
       "    .dataframe tbody tr th {\n",
       "        vertical-align: top;\n",
       "    }\n",
       "\n",
       "    .dataframe thead th {\n",
       "        text-align: right;\n",
       "    }\n",
       "</style>\n",
       "<table border=\"1\" class=\"dataframe\">\n",
       "  <thead>\n",
       "    <tr style=\"text-align: right;\">\n",
       "      <th></th>\n",
       "      <th>Text</th>\n",
       "    </tr>\n",
       "  </thead>\n",
       "  <tbody>\n",
       "    <tr>\n",
       "      <th>0</th>\n",
       "      <td>Yapay Zeka Nedir, Ne İşe Yarar?\\n\\nYapay zeka ...</td>\n",
       "    </tr>\n",
       "    <tr>\n",
       "      <th>1</th>\n",
       "      <td>🔎 Verilerinizi analiz edin: \\nChatGPT'yi kulla...</td>\n",
       "    </tr>\n",
       "    <tr>\n",
       "      <th>2</th>\n",
       "      <td>Öncelikle yapay zekanın ne olduğunu, #dijitala...</td>\n",
       "    </tr>\n",
       "    <tr>\n",
       "      <th>3</th>\n",
       "      <td>9. Baidu Research: Çin'in önde gelen arama mot...</td>\n",
       "    </tr>\n",
       "    <tr>\n",
       "      <th>4</th>\n",
       "      <td>4. Microsoft AI: Microsoft'un yapay zeka tekno...</td>\n",
       "    </tr>\n",
       "    <tr>\n",
       "      <th>...</th>\n",
       "      <td>...</td>\n",
       "    </tr>\n",
       "    <tr>\n",
       "      <th>853</th>\n",
       "      <td>doğal dil işleme alanında yüksek lisans-doktor...</td>\n",
       "    </tr>\n",
       "    <tr>\n",
       "      <th>854</th>\n",
       "      <td>dogal dil isleme şeyleri</td>\n",
       "    </tr>\n",
       "    <tr>\n",
       "      <th>855</th>\n",
       "      <td>Bir veri madenciliği ve doğal dil işleme uygul...</td>\n",
       "    </tr>\n",
       "    <tr>\n",
       "      <th>856</th>\n",
       "      <td>\"Doğal dil işleme\" ile ilgili deneyimi olan ya...</td>\n",
       "    </tr>\n",
       "    <tr>\n",
       "      <th>857</th>\n",
       "      <td>Haftaya öğrencilik hayatıma kaldığım yerden de...</td>\n",
       "    </tr>\n",
       "  </tbody>\n",
       "</table>\n",
       "<p>858 rows × 1 columns</p>\n",
       "</div>"
      ],
      "text/plain": [
       "                                                  Text\n",
       "0    Yapay Zeka Nedir, Ne İşe Yarar?\\n\\nYapay zeka ...\n",
       "1    🔎 Verilerinizi analiz edin: \\nChatGPT'yi kulla...\n",
       "2    Öncelikle yapay zekanın ne olduğunu, #dijitala...\n",
       "3    9. Baidu Research: Çin'in önde gelen arama mot...\n",
       "4    4. Microsoft AI: Microsoft'un yapay zeka tekno...\n",
       "..                                                 ...\n",
       "853  doğal dil işleme alanında yüksek lisans-doktor...\n",
       "854                           dogal dil isleme şeyleri\n",
       "855  Bir veri madenciliği ve doğal dil işleme uygul...\n",
       "856  \"Doğal dil işleme\" ile ilgili deneyimi olan ya...\n",
       "857  Haftaya öğrencilik hayatıma kaldığım yerden de...\n",
       "\n",
       "[858 rows x 1 columns]"
      ]
     },
     "execution_count": 22,
     "metadata": {},
     "output_type": "execute_result"
    }
   ],
   "source": [
    "df"
   ]
  },
  {
   "cell_type": "code",
   "execution_count": 23,
   "id": "9df43ab7-7101-4222-86eb-f281684f4c01",
   "metadata": {},
   "outputs": [
    {
     "data": {
      "text/plain": [
       "'yağmur mutlu '"
      ]
     },
     "execution_count": 23,
     "metadata": {},
     "output_type": "execute_result"
    }
   ],
   "source": [
    "#sayılar değerlerin kaldırılması\n",
    "\n",
    "def remove_numeric(value):\n",
    "    bfr=[item for item in value if not item.isdigit()]\n",
    "\n",
    "    bfr=\"\".join(bfr)\n",
    "    return bfr\n",
    "\n",
    "\n",
    "text =\"yağmur mutlu 2000\"\n",
    "remove_numeric(text)"
   ]
  },
  {
   "cell_type": "code",
   "execution_count": 24,
   "id": "9c888691-d9a3-4957-8866-40f3d66c0946",
   "metadata": {},
   "outputs": [],
   "source": [
    "import re\n",
    "    "
   ]
  },
  {
   "cell_type": "code",
   "execution_count": 25,
   "id": "d89979dc-fc63-4cdc-965e-c49c2254cb09",
   "metadata": {},
   "outputs": [
    {
     "data": {
      "text/plain": [
       "'yağmur mutlu '"
      ]
     },
     "execution_count": 25,
     "metadata": {},
     "output_type": "execute_result"
    }
   ],
   "source": [
    "#emojileri kaldırma\n",
    "\n",
    "def remove_emoji(value):\n",
    "    bfr=re.compile(\"[\\U00010000-\\U0010ffff]\",flags=re.UNICODE)\n",
    "    bfr=bfr.sub(r'',value)\n",
    "    return bfr\n",
    "\n",
    "text=\"yağmur mutlu 🤪\"\n",
    "remove_emoji(text)"
   ]
  },
  {
   "cell_type": "code",
   "execution_count": 26,
   "id": "980eda71-6e4a-4b2c-8b44-d5497a4ad9d6",
   "metadata": {},
   "outputs": [
    {
     "name": "stdout",
     "output_type": "stream",
     "text": [
      "yağmur mutlu \n"
     ]
    }
   ],
   "source": [
    "#tek karakterli harflerin kaldırılması\n",
    "import re\n",
    "\n",
    "def remove_single_character(value):\n",
    "    return re.sub(r'\\b\\w\\b', '', value)\n",
    "\n",
    "text = \"yağmur mutlu y\"\n",
    "result = remove_single_character(text)\n",
    "print(result)\n"
   ]
  },
  {
   "cell_type": "code",
   "execution_count": 27,
   "id": "7b59897f-7122-47a3-9907-a191981a4534",
   "metadata": {},
   "outputs": [
    {
     "data": {
      "text/plain": [
       "'yağmur mutlul'"
      ]
     },
     "execution_count": 27,
     "metadata": {},
     "output_type": "execute_result"
    }
   ],
   "source": [
    "#noktalama işaretlerini kaldırma\n",
    "\n",
    "def remove_noktalama(value):\n",
    "    return re.sub(r'[^\\w\\s]', '', value)\n",
    "\n",
    "text = \"yağmur mutlul.,-\"\n",
    "remove_noktalama(text)"
   ]
  },
  {
   "cell_type": "code",
   "execution_count": 28,
   "id": "71be390d-4505-4a60-9c79-3dd1874896c9",
   "metadata": {},
   "outputs": [
    {
     "data": {
      "text/plain": [
       "'yağmur '"
      ]
     },
     "execution_count": 28,
     "metadata": {},
     "output_type": "execute_result"
    }
   ],
   "source": [
    "#linklerin kaldırılması\n",
    "\n",
    "def remove_link(value):\n",
    "    return re.sub(r'(https?://\\S+)|(www\\.\\S+)', '', value)\n",
    "\n",
    "text=\"yağmur https://tr.wikipedia.org/wiki/Do%C4%9Fal_dil_i%C5%9Fleme\"\n",
    "remove_link(text)"
   ]
  },
  {
   "cell_type": "code",
   "execution_count": 29,
   "id": "4e62e0c2-c0aa-4119-b833-2ea37ed1b4b2",
   "metadata": {},
   "outputs": [
    {
     "data": {
      "text/plain": [
       "'yağmur '"
      ]
     },
     "execution_count": 29,
     "metadata": {},
     "output_type": "execute_result"
    }
   ],
   "source": [
    "#linklerin kaldırılması\n",
    "\n",
    "def remove_link(value):\n",
    "    return re.sub(r'(https?://\\S+)|(www\\.\\S+)', '', value)\n",
    "\n",
    "text=\"yağmur https://tr.wikipedia.org/wiki/Do%C4%9Fal_dil_i%C5%9Fleme\"\n",
    "remove_link(text)"
   ]
  },
  {
   "cell_type": "code",
   "execution_count": 30,
   "id": "6c9377ed-56e9-489d-bf4e-0f37c9ba29b8",
   "metadata": {},
   "outputs": [
    {
     "data": {
      "text/plain": [
       "'halil '"
      ]
     },
     "execution_count": 30,
     "metadata": {},
     "output_type": "execute_result"
    }
   ],
   "source": [
    "#hastagların kaldırılması\n",
    "\n",
    "def remove_hashtag(value):\n",
    "    return re.sub(r'#\\w+', '', value)\n",
    "\n",
    "text=\"halil #nlp\"\n",
    "remove_hashtag(text)"
   ]
  },
  {
   "cell_type": "code",
   "execution_count": 31,
   "id": "770fb8d9-db62-4871-9dc3-4af4340c36fd",
   "metadata": {},
   "outputs": [
    {
     "data": {
      "text/plain": [
       "'Merhaba , nasılsınız?'"
      ]
     },
     "execution_count": 31,
     "metadata": {},
     "output_type": "execute_result"
    }
   ],
   "source": [
    "#kullanıcı adını kaldırma\n",
    "\n",
    "def remove_username(value):\n",
    "        return re.sub(r'@\\w+', '', value)\n",
    "\n",
    "text = \"Merhaba @username, nasılsınız?\"\n",
    "remove_username(text)"
   ]
  },
  {
   "cell_type": "code",
   "execution_count": 32,
   "id": "bbb059e2-fe73-4e7d-b88a-ccdadd5f1c8a",
   "metadata": {},
   "outputs": [
    {
     "name": "stdout",
     "output_type": "stream",
     "text": [
      "Requirement already satisfied: snowballstemmer in c:\\users\\lenovo\\anaconda3\\lib\\site-packages (2.2.0)\n"
     ]
    }
   ],
   "source": [
    "!pip install snowballstemmer"
   ]
  },
  {
   "cell_type": "code",
   "execution_count": 33,
   "id": "51167bb9-beea-498f-8ae2-d06caf2de2fc",
   "metadata": {},
   "outputs": [
    {
     "data": {
      "text/plain": [
       "'bugu cok güzel bir gün dışarı cıkamıyor baz sebep dola'"
      ]
     },
     "execution_count": 33,
     "metadata": {},
     "output_type": "execute_result"
    }
   ],
   "source": [
    "import snowballstemmer\n",
    "def stem_word(value):\n",
    "    stemmer=snowballstemmer.stemmer(\"turkish\")\n",
    "    value=value.lower()\n",
    "    value=stemmer.stemWords(value.split())\n",
    "    stop_words=['acaba','ama','aslında','az','bazı','belki']\n",
    "    \n",
    "    value=[item for item in value if not item in stop_words]\n",
    "    value=' '.join(value)\n",
    "    return value\n",
    "\n",
    "text=\" bugün cok güzel bir gün  dışarıya cıkamıyorum bazı sebeplerden dolayı\"\n",
    "stem_word(text)"
   ]
  },
  {
   "cell_type": "code",
   "execution_count": 34,
   "id": "a6cd3de7-a88c-4fd2-8c43-47d37e948088",
   "metadata": {},
   "outputs": [],
   "source": [
    "def pre_processing(value):\n",
    "    return [remove_numeric(remove_emoji\n",
    "                          (remove_single_character\n",
    "                           (remove_noktalama\n",
    "                            (remove_link\n",
    "                             (remove_hashtag\n",
    "                              (remove_username\n",
    "                               (stem_word(word)))))))) for word in value.split()]\n",
    "    \n"
   ]
  },
  {
   "cell_type": "code",
   "execution_count": 35,
   "id": "78383ced-bd10-400b-9cb1-fb61850d9a86",
   "metadata": {},
   "outputs": [],
   "source": [
    "df[\"Text_2\"]=df[\"Text\"].apply(pre_processing)"
   ]
  },
  {
   "cell_type": "code",
   "execution_count": 36,
   "id": "6f7833fd-168f-4024-bdb3-e21ed2adbc2a",
   "metadata": {},
   "outputs": [],
   "source": [
    "#boşlukları kaldırma\n",
    "\n",
    "def remove_space(value):\n",
    "    return [item for item in value if item.strip()]\n",
    "\n",
    "df[\"Text_2\"]=df[\"Text_2\"].apply(remove_space)"
   ]
  },
  {
   "cell_type": "code",
   "execution_count": 37,
   "id": "b4f12bd1-34da-4a9b-a9ca-f0a3c705c5a3",
   "metadata": {},
   "outputs": [
    {
     "data": {
      "text/html": [
       "<div>\n",
       "<style scoped>\n",
       "    .dataframe tbody tr th:only-of-type {\n",
       "        vertical-align: middle;\n",
       "    }\n",
       "\n",
       "    .dataframe tbody tr th {\n",
       "        vertical-align: top;\n",
       "    }\n",
       "\n",
       "    .dataframe thead th {\n",
       "        text-align: right;\n",
       "    }\n",
       "</style>\n",
       "<table border=\"1\" class=\"dataframe\">\n",
       "  <thead>\n",
       "    <tr style=\"text-align: right;\">\n",
       "      <th></th>\n",
       "      <th>Text</th>\n",
       "      <th>Text_2</th>\n",
       "    </tr>\n",
       "  </thead>\n",
       "  <tbody>\n",
       "    <tr>\n",
       "      <th>0</th>\n",
       "      <td>Yapay Zeka Nedir, Ne İşe Yarar?\\n\\nYapay zeka ...</td>\n",
       "      <td>[yapay, zeka, nedir, ne, işe, yarar, yapay, ze...</td>\n",
       "    </tr>\n",
       "    <tr>\n",
       "      <th>1</th>\n",
       "      <td>🔎 Verilerinizi analiz edin: \\nChatGPT'yi kulla...</td>\n",
       "      <td>[veri, analiz, edin, chatgptyi, kullanarak, do...</td>\n",
       "    </tr>\n",
       "    <tr>\n",
       "      <th>2</th>\n",
       "      <td>Öncelikle yapay zekanın ne olduğunu, #dijitala...</td>\n",
       "      <td>[öncelik, yapay, zeka, ne, olduğunu, iç, ne, ö...</td>\n",
       "    </tr>\n",
       "    <tr>\n",
       "      <th>3</th>\n",
       "      <td>9. Baidu Research: Çin'in önde gelen arama mot...</td>\n",
       "      <td>[baidu, research, çin, ön, gele, ara, motor, b...</td>\n",
       "    </tr>\n",
       "    <tr>\n",
       "      <th>4</th>\n",
       "      <td>4. Microsoft AI: Microsoft'un yapay zeka tekno...</td>\n",
       "      <td>[microsoft, ai, microsoft, yapay, zeka, teknol...</td>\n",
       "    </tr>\n",
       "  </tbody>\n",
       "</table>\n",
       "</div>"
      ],
      "text/plain": [
       "                                                Text  \\\n",
       "0  Yapay Zeka Nedir, Ne İşe Yarar?\\n\\nYapay zeka ...   \n",
       "1  🔎 Verilerinizi analiz edin: \\nChatGPT'yi kulla...   \n",
       "2  Öncelikle yapay zekanın ne olduğunu, #dijitala...   \n",
       "3  9. Baidu Research: Çin'in önde gelen arama mot...   \n",
       "4  4. Microsoft AI: Microsoft'un yapay zeka tekno...   \n",
       "\n",
       "                                              Text_2  \n",
       "0  [yapay, zeka, nedir, ne, işe, yarar, yapay, ze...  \n",
       "1  [veri, analiz, edin, chatgptyi, kullanarak, do...  \n",
       "2  [öncelik, yapay, zeka, ne, olduğunu, iç, ne, ö...  \n",
       "3  [baidu, research, çin, ön, gele, ara, motor, b...  \n",
       "4  [microsoft, ai, microsoft, yapay, zeka, teknol...  "
      ]
     },
     "execution_count": 37,
     "metadata": {},
     "output_type": "execute_result"
    }
   ],
   "source": [
    "df.head()"
   ]
  },
  {
   "cell_type": "code",
   "execution_count": 38,
   "id": "3a9c54a8-d76b-4ed4-95ab-9f9d258a1aae",
   "metadata": {},
   "outputs": [],
   "source": [
    "import on_islem"
   ]
  },
  {
   "cell_type": "code",
   "execution_count": 41,
   "id": "601ef851-e0ba-49b2-913a-6e469ba1413a",
   "metadata": {},
   "outputs": [],
   "source": [
    "df=pd.read_csv(\"data/nlp.csv\",index_col=0)"
   ]
  },
  {
   "cell_type": "code",
   "execution_count": 42,
   "id": "42b9ad0b-2225-4dde-8322-59ab078a3955",
   "metadata": {},
   "outputs": [
    {
     "data": {
      "text/html": [
       "<div>\n",
       "<style scoped>\n",
       "    .dataframe tbody tr th:only-of-type {\n",
       "        vertical-align: middle;\n",
       "    }\n",
       "\n",
       "    .dataframe tbody tr th {\n",
       "        vertical-align: top;\n",
       "    }\n",
       "\n",
       "    .dataframe thead th {\n",
       "        text-align: right;\n",
       "    }\n",
       "</style>\n",
       "<table border=\"1\" class=\"dataframe\">\n",
       "  <thead>\n",
       "    <tr style=\"text-align: right;\">\n",
       "      <th></th>\n",
       "      <th>Text</th>\n",
       "    </tr>\n",
       "  </thead>\n",
       "  <tbody>\n",
       "    <tr>\n",
       "      <th>0</th>\n",
       "      <td>Yapay Zeka Nedir, Ne İşe Yarar?\\n\\nYapay zeka ...</td>\n",
       "    </tr>\n",
       "    <tr>\n",
       "      <th>1</th>\n",
       "      <td>🔎 Verilerinizi analiz edin: \\nChatGPT'yi kulla...</td>\n",
       "    </tr>\n",
       "    <tr>\n",
       "      <th>2</th>\n",
       "      <td>Öncelikle yapay zekanın ne olduğunu, #dijitala...</td>\n",
       "    </tr>\n",
       "    <tr>\n",
       "      <th>3</th>\n",
       "      <td>9. Baidu Research: Çin'in önde gelen arama mot...</td>\n",
       "    </tr>\n",
       "    <tr>\n",
       "      <th>4</th>\n",
       "      <td>4. Microsoft AI: Microsoft'un yapay zeka tekno...</td>\n",
       "    </tr>\n",
       "  </tbody>\n",
       "</table>\n",
       "</div>"
      ],
      "text/plain": [
       "                                                Text\n",
       "0  Yapay Zeka Nedir, Ne İşe Yarar?\\n\\nYapay zeka ...\n",
       "1  🔎 Verilerinizi analiz edin: \\nChatGPT'yi kulla...\n",
       "2  Öncelikle yapay zekanın ne olduğunu, #dijitala...\n",
       "3  9. Baidu Research: Çin'in önde gelen arama mot...\n",
       "4  4. Microsoft AI: Microsoft'un yapay zeka tekno..."
      ]
     },
     "execution_count": 42,
     "metadata": {},
     "output_type": "execute_result"
    }
   ],
   "source": [
    "df.head()"
   ]
  },
  {
   "cell_type": "code",
   "execution_count": 43,
   "id": "f4c5cafa-466a-404c-a1f5-31e2eccd93a3",
   "metadata": {},
   "outputs": [
    {
     "data": {
      "text/html": [
       "<div>\n",
       "<style scoped>\n",
       "    .dataframe tbody tr th:only-of-type {\n",
       "        vertical-align: middle;\n",
       "    }\n",
       "\n",
       "    .dataframe tbody tr th {\n",
       "        vertical-align: top;\n",
       "    }\n",
       "\n",
       "    .dataframe thead th {\n",
       "        text-align: right;\n",
       "    }\n",
       "</style>\n",
       "<table border=\"1\" class=\"dataframe\">\n",
       "  <thead>\n",
       "    <tr style=\"text-align: right;\">\n",
       "      <th></th>\n",
       "      <th>Text</th>\n",
       "      <th>Text_2</th>\n",
       "    </tr>\n",
       "  </thead>\n",
       "  <tbody>\n",
       "    <tr>\n",
       "      <th>0</th>\n",
       "      <td>Yapay Zeka Nedir, Ne İşe Yarar?\\n\\nYapay zeka ...</td>\n",
       "      <td>[Y, a, p, a, y, Z, e, k, a, N, e, d, i, r, ,, ...</td>\n",
       "    </tr>\n",
       "    <tr>\n",
       "      <th>1</th>\n",
       "      <td>🔎 Verilerinizi analiz edin: \\nChatGPT'yi kulla...</td>\n",
       "      <td>[🔎, V, e, r, i, l, e, r, i, n, i, z, i, a, n, ...</td>\n",
       "    </tr>\n",
       "    <tr>\n",
       "      <th>2</th>\n",
       "      <td>Öncelikle yapay zekanın ne olduğunu, #dijitala...</td>\n",
       "      <td>[Ö, n, c, e, l, i, k, l, e, y, a, p, a, y, z, ...</td>\n",
       "    </tr>\n",
       "    <tr>\n",
       "      <th>3</th>\n",
       "      <td>9. Baidu Research: Çin'in önde gelen arama mot...</td>\n",
       "      <td>[9, ., B, a, i, d, u, R, e, s, e, a, r, c, h, ...</td>\n",
       "    </tr>\n",
       "    <tr>\n",
       "      <th>4</th>\n",
       "      <td>4. Microsoft AI: Microsoft'un yapay zeka tekno...</td>\n",
       "      <td>[4, ., M, i, c, r, o, s, o, f, t, A, I, :, M, ...</td>\n",
       "    </tr>\n",
       "  </tbody>\n",
       "</table>\n",
       "</div>"
      ],
      "text/plain": [
       "                                                Text  \\\n",
       "0  Yapay Zeka Nedir, Ne İşe Yarar?\\n\\nYapay zeka ...   \n",
       "1  🔎 Verilerinizi analiz edin: \\nChatGPT'yi kulla...   \n",
       "2  Öncelikle yapay zekanın ne olduğunu, #dijitala...   \n",
       "3  9. Baidu Research: Çin'in önde gelen arama mot...   \n",
       "4  4. Microsoft AI: Microsoft'un yapay zeka tekno...   \n",
       "\n",
       "                                              Text_2  \n",
       "0  [Y, a, p, a, y, Z, e, k, a, N, e, d, i, r, ,, ...  \n",
       "1  [🔎, V, e, r, i, l, e, r, i, n, i, z, i, a, n, ...  \n",
       "2  [Ö, n, c, e, l, i, k, l, e, y, a, p, a, y, z, ...  \n",
       "3  [9, ., B, a, i, d, u, R, e, s, e, a, r, c, h, ...  \n",
       "4  [4, ., M, i, c, r, o, s, o, f, t, A, I, :, M, ...  "
      ]
     },
     "execution_count": 43,
     "metadata": {},
     "output_type": "execute_result"
    }
   ],
   "source": [
    "df[\"Text_2\"]=df[\"Text\"].apply(on_islem.pre_processing)\n",
    "df[\"Text_2\"]=df[\"Text\"].apply(on_islem.remove_space)\n",
    "df.head()"
   ]
  },
  {
   "cell_type": "code",
   "execution_count": null,
   "id": "dc875e86-1c4a-48d9-9b7e-f7a5cb876893",
   "metadata": {},
   "outputs": [],
   "source": []
  }
 ],
 "metadata": {
  "kernelspec": {
   "display_name": "Python 3 (ipykernel)",
   "language": "python",
   "name": "python3"
  },
  "language_info": {
   "codemirror_mode": {
    "name": "ipython",
    "version": 3
   },
   "file_extension": ".py",
   "mimetype": "text/x-python",
   "name": "python",
   "nbconvert_exporter": "python",
   "pygments_lexer": "ipython3",
   "version": "3.9.13"
  }
 },
 "nbformat": 4,
 "nbformat_minor": 5
}
