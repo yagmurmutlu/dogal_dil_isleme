{
 "cells": [
  {
   "cell_type": "code",
   "execution_count": 50,
   "id": "d9b4a23f-3e2f-4c96-a088-2a5b4ed6c11e",
   "metadata": {},
   "outputs": [
    {
     "ename": "ImportError",
     "evalue": "cannot import name 'CountVectorizer' from 'sklearn.feature_extraction' (C:\\Users\\Lenovo\\anaconda3\\lib\\site-packages\\sklearn\\feature_extraction\\__init__.py)",
     "output_type": "error",
     "traceback": [
      "\u001b[1;31m---------------------------------------------------------------------------\u001b[0m",
      "\u001b[1;31mImportError\u001b[0m                               Traceback (most recent call last)",
      "\u001b[1;32m~\\AppData\\Local\\Temp\\ipykernel_21108\\2108876200.py\u001b[0m in \u001b[0;36m<module>\u001b[1;34m\u001b[0m\n\u001b[1;32m----> 1\u001b[1;33m \u001b[1;32mfrom\u001b[0m \u001b[0msklearn\u001b[0m\u001b[1;33m.\u001b[0m\u001b[0mfeature_extraction\u001b[0m \u001b[1;32mimport\u001b[0m \u001b[0mCountVectorizer\u001b[0m\u001b[1;33m\u001b[0m\u001b[1;33m\u001b[0m\u001b[0m\n\u001b[0m",
      "\u001b[1;31mImportError\u001b[0m: cannot import name 'CountVectorizer' from 'sklearn.feature_extraction' (C:\\Users\\Lenovo\\anaconda3\\lib\\site-packages\\sklearn\\feature_extraction\\__init__.py)"
     ]
    }
   ],
   "source": [
    "from sklearn.feature_extraction import CountVectorizer\n"
   ]
  },
  {
   "cell_type": "code",
   "execution_count": 51,
   "id": "30af1b64-ab08-474f-8bde-24b5685a199c",
   "metadata": {},
   "outputs": [],
   "source": [
    "import pandas as pd"
   ]
  },
  {
   "cell_type": "code",
   "execution_count": 52,
   "id": "ff99fd04-ec76-47b2-94b5-f639d3ded31f",
   "metadata": {},
   "outputs": [],
   "source": [
    "df=pd.read_csv(\"data/nlp.csv\",index_col=0)"
   ]
  },
  {
   "cell_type": "code",
   "execution_count": 53,
   "id": "03f49583-b103-41c6-905d-976ed6421a64",
   "metadata": {},
   "outputs": [],
   "source": [
    "from gensim.models import Word2Vec"
   ]
  },
  {
   "cell_type": "code",
   "execution_count": 54,
   "id": "4ab4f02e-7e6a-402b-a365-6e1f780a806e",
   "metadata": {},
   "outputs": [
    {
     "data": {
      "text/html": [
       "<div>\n",
       "<style scoped>\n",
       "    .dataframe tbody tr th:only-of-type {\n",
       "        vertical-align: middle;\n",
       "    }\n",
       "\n",
       "    .dataframe tbody tr th {\n",
       "        vertical-align: top;\n",
       "    }\n",
       "\n",
       "    .dataframe thead th {\n",
       "        text-align: right;\n",
       "    }\n",
       "</style>\n",
       "<table border=\"1\" class=\"dataframe\">\n",
       "  <thead>\n",
       "    <tr style=\"text-align: right;\">\n",
       "      <th></th>\n",
       "      <th>Text</th>\n",
       "    </tr>\n",
       "  </thead>\n",
       "  <tbody>\n",
       "    <tr>\n",
       "      <th>0</th>\n",
       "      <td>Yapay Zeka Nedir, Ne İşe Yarar?\\n\\nYapay zeka ...</td>\n",
       "    </tr>\n",
       "    <tr>\n",
       "      <th>1</th>\n",
       "      <td>🔎 Verilerinizi analiz edin: \\nChatGPT'yi kulla...</td>\n",
       "    </tr>\n",
       "    <tr>\n",
       "      <th>2</th>\n",
       "      <td>Öncelikle yapay zekanın ne olduğunu, #dijitala...</td>\n",
       "    </tr>\n",
       "    <tr>\n",
       "      <th>3</th>\n",
       "      <td>9. Baidu Research: Çin'in önde gelen arama mot...</td>\n",
       "    </tr>\n",
       "    <tr>\n",
       "      <th>4</th>\n",
       "      <td>4. Microsoft AI: Microsoft'un yapay zeka tekno...</td>\n",
       "    </tr>\n",
       "  </tbody>\n",
       "</table>\n",
       "</div>"
      ],
      "text/plain": [
       "                                                Text\n",
       "0  Yapay Zeka Nedir, Ne İşe Yarar?\\n\\nYapay zeka ...\n",
       "1  🔎 Verilerinizi analiz edin: \\nChatGPT'yi kulla...\n",
       "2  Öncelikle yapay zekanın ne olduğunu, #dijitala...\n",
       "3  9. Baidu Research: Çin'in önde gelen arama mot...\n",
       "4  4. Microsoft AI: Microsoft'un yapay zeka tekno..."
      ]
     },
     "execution_count": 54,
     "metadata": {},
     "output_type": "execute_result"
    }
   ],
   "source": [
    "df.head()"
   ]
  },
  {
   "cell_type": "code",
   "execution_count": 55,
   "id": "cd61b9ca-df8c-4163-944c-b76eb9f04e0d",
   "metadata": {},
   "outputs": [],
   "source": [
    "import on_islem"
   ]
  },
  {
   "cell_type": "code",
   "execution_count": 56,
   "id": "0e2fda40-1214-47f8-97bf-b0f501151658",
   "metadata": {},
   "outputs": [],
   "source": [
    "df[\"Text_2\"]=df[\"Text\"].apply(on_islem.pre_processing)\n",
    "df[\"Text_2\"]=df[\"Text_2\"].apply(on_islem.remove_space)"
   ]
  },
  {
   "cell_type": "code",
   "execution_count": 57,
   "id": "482b141c-c896-48b9-a77a-85f88e2b1c66",
   "metadata": {},
   "outputs": [
    {
     "data": {
      "text/html": [
       "<div>\n",
       "<style scoped>\n",
       "    .dataframe tbody tr th:only-of-type {\n",
       "        vertical-align: middle;\n",
       "    }\n",
       "\n",
       "    .dataframe tbody tr th {\n",
       "        vertical-align: top;\n",
       "    }\n",
       "\n",
       "    .dataframe thead th {\n",
       "        text-align: right;\n",
       "    }\n",
       "</style>\n",
       "<table border=\"1\" class=\"dataframe\">\n",
       "  <thead>\n",
       "    <tr style=\"text-align: right;\">\n",
       "      <th></th>\n",
       "      <th>Text</th>\n",
       "      <th>Text_2</th>\n",
       "    </tr>\n",
       "  </thead>\n",
       "  <tbody>\n",
       "    <tr>\n",
       "      <th>0</th>\n",
       "      <td>Yapay Zeka Nedir, Ne İşe Yarar?\\n\\nYapay zeka ...</td>\n",
       "      <td>[yapay, zeka, nedir, ne, işe, yarar, yapay, ze...</td>\n",
       "    </tr>\n",
       "    <tr>\n",
       "      <th>1</th>\n",
       "      <td>🔎 Verilerinizi analiz edin: \\nChatGPT'yi kulla...</td>\n",
       "      <td>[veri, analiz, edin, chatgptyi, kullanarak, do...</td>\n",
       "    </tr>\n",
       "    <tr>\n",
       "      <th>2</th>\n",
       "      <td>Öncelikle yapay zekanın ne olduğunu, #dijitala...</td>\n",
       "      <td>[öncelik, yapay, zeka, ne, olduğunu, iç, ne, ö...</td>\n",
       "    </tr>\n",
       "    <tr>\n",
       "      <th>3</th>\n",
       "      <td>9. Baidu Research: Çin'in önde gelen arama mot...</td>\n",
       "      <td>[baidu, research, çin, ön, gele, ara, motor, b...</td>\n",
       "    </tr>\n",
       "    <tr>\n",
       "      <th>4</th>\n",
       "      <td>4. Microsoft AI: Microsoft'un yapay zeka tekno...</td>\n",
       "      <td>[microsoft, ai, microsoft, yapay, zeka, teknol...</td>\n",
       "    </tr>\n",
       "  </tbody>\n",
       "</table>\n",
       "</div>"
      ],
      "text/plain": [
       "                                                Text  \\\n",
       "0  Yapay Zeka Nedir, Ne İşe Yarar?\\n\\nYapay zeka ...   \n",
       "1  🔎 Verilerinizi analiz edin: \\nChatGPT'yi kulla...   \n",
       "2  Öncelikle yapay zekanın ne olduğunu, #dijitala...   \n",
       "3  9. Baidu Research: Çin'in önde gelen arama mot...   \n",
       "4  4. Microsoft AI: Microsoft'un yapay zeka tekno...   \n",
       "\n",
       "                                              Text_2  \n",
       "0  [yapay, zeka, nedir, ne, işe, yarar, yapay, ze...  \n",
       "1  [veri, analiz, edin, chatgptyi, kullanarak, do...  \n",
       "2  [öncelik, yapay, zeka, ne, olduğunu, iç, ne, ö...  \n",
       "3  [baidu, research, çin, ön, gele, ara, motor, b...  \n",
       "4  [microsoft, ai, microsoft, yapay, zeka, teknol...  "
      ]
     },
     "execution_count": 57,
     "metadata": {},
     "output_type": "execute_result"
    }
   ],
   "source": [
    "df.head()"
   ]
  },
  {
   "cell_type": "code",
   "execution_count": 58,
   "id": "4f5d8e70-49ff-4f0c-bb11-973aa875ae1d",
   "metadata": {},
   "outputs": [
    {
     "data": {
      "text/html": [
       "<div>\n",
       "<style scoped>\n",
       "    .dataframe tbody tr th:only-of-type {\n",
       "        vertical-align: middle;\n",
       "    }\n",
       "\n",
       "    .dataframe tbody tr th {\n",
       "        vertical-align: top;\n",
       "    }\n",
       "\n",
       "    .dataframe thead th {\n",
       "        text-align: right;\n",
       "    }\n",
       "</style>\n",
       "<table border=\"1\" class=\"dataframe\">\n",
       "  <thead>\n",
       "    <tr style=\"text-align: right;\">\n",
       "      <th></th>\n",
       "      <th>Text</th>\n",
       "      <th>Text_2</th>\n",
       "    </tr>\n",
       "  </thead>\n",
       "  <tbody>\n",
       "    <tr>\n",
       "      <th>194</th>\n",
       "      <td>#hesaplamalısosyalbilimler #computationalsocia...</td>\n",
       "      <td>[]</td>\n",
       "    </tr>\n",
       "    <tr>\n",
       "      <th>464</th>\n",
       "      <td>#investment #software #technology #tech #innov...</td>\n",
       "      <td>[]</td>\n",
       "    </tr>\n",
       "  </tbody>\n",
       "</table>\n",
       "</div>"
      ],
      "text/plain": [
       "                                                  Text Text_2\n",
       "194  #hesaplamalısosyalbilimler #computationalsocia...     []\n",
       "464  #investment #software #technology #tech #innov...     []"
      ]
     },
     "execution_count": 58,
     "metadata": {},
     "output_type": "execute_result"
    }
   ],
   "source": [
    "#boş liste kontrolü\n",
    "\n",
    "df[df[\"Text_2\"].str[0].isnull()]"
   ]
  },
  {
   "cell_type": "code",
   "execution_count": 59,
   "id": "f71f5f8d-de87-412c-a42e-22eadd2793d8",
   "metadata": {},
   "outputs": [
    {
     "data": {
      "text/html": [
       "<div>\n",
       "<style scoped>\n",
       "    .dataframe tbody tr th:only-of-type {\n",
       "        vertical-align: middle;\n",
       "    }\n",
       "\n",
       "    .dataframe tbody tr th {\n",
       "        vertical-align: top;\n",
       "    }\n",
       "\n",
       "    .dataframe thead th {\n",
       "        text-align: right;\n",
       "    }\n",
       "</style>\n",
       "<table border=\"1\" class=\"dataframe\">\n",
       "  <thead>\n",
       "    <tr style=\"text-align: right;\">\n",
       "      <th></th>\n",
       "      <th>Text</th>\n",
       "      <th>Text_2</th>\n",
       "    </tr>\n",
       "  </thead>\n",
       "  <tbody>\n",
       "  </tbody>\n",
       "</table>\n",
       "</div>"
      ],
      "text/plain": [
       "Empty DataFrame\n",
       "Columns: [Text, Text_2]\n",
       "Index: []"
      ]
     },
     "execution_count": 59,
     "metadata": {},
     "output_type": "execute_result"
    }
   ],
   "source": [
    "df_index = df[df[\"Text_2\"].str[0].isnull()].index\n",
    "df = df.drop(df_index)\n",
    "df = df.reset_index()\n",
    "\n",
    "# Remove the line below if the index column is not needed\n",
    "del df[\"index\"]\n",
    "\n",
    "\n",
    "\n",
    "df[df[\"Text_2\"].str[0].isnull()]\n"
   ]
  },
  {
   "cell_type": "code",
   "execution_count": 60,
   "id": "331b6dbd-b900-4b91-a060-313af3575a30",
   "metadata": {},
   "outputs": [
    {
     "data": {
      "text/html": [
       "<div>\n",
       "<style scoped>\n",
       "    .dataframe tbody tr th:only-of-type {\n",
       "        vertical-align: middle;\n",
       "    }\n",
       "\n",
       "    .dataframe tbody tr th {\n",
       "        vertical-align: top;\n",
       "    }\n",
       "\n",
       "    .dataframe thead th {\n",
       "        text-align: right;\n",
       "    }\n",
       "</style>\n",
       "<table border=\"1\" class=\"dataframe\">\n",
       "  <thead>\n",
       "    <tr style=\"text-align: right;\">\n",
       "      <th></th>\n",
       "      <th>Text</th>\n",
       "      <th>Text_2</th>\n",
       "    </tr>\n",
       "  </thead>\n",
       "  <tbody>\n",
       "    <tr>\n",
       "      <th>0</th>\n",
       "      <td>Yapay Zeka Nedir, Ne İşe Yarar?\\n\\nYapay zeka ...</td>\n",
       "      <td>[yapay, zeka, nedir, ne, işe, yarar, yapay, ze...</td>\n",
       "    </tr>\n",
       "    <tr>\n",
       "      <th>1</th>\n",
       "      <td>🔎 Verilerinizi analiz edin: \\nChatGPT'yi kulla...</td>\n",
       "      <td>[veri, analiz, edin, chatgptyi, kullanarak, do...</td>\n",
       "    </tr>\n",
       "    <tr>\n",
       "      <th>2</th>\n",
       "      <td>Öncelikle yapay zekanın ne olduğunu, #dijitala...</td>\n",
       "      <td>[öncelik, yapay, zeka, ne, olduğunu, iç, ne, ö...</td>\n",
       "    </tr>\n",
       "    <tr>\n",
       "      <th>3</th>\n",
       "      <td>9. Baidu Research: Çin'in önde gelen arama mot...</td>\n",
       "      <td>[baidu, research, çin, ön, gele, ara, motor, b...</td>\n",
       "    </tr>\n",
       "    <tr>\n",
       "      <th>4</th>\n",
       "      <td>4. Microsoft AI: Microsoft'un yapay zeka tekno...</td>\n",
       "      <td>[microsoft, ai, microsoft, yapay, zeka, teknol...</td>\n",
       "    </tr>\n",
       "  </tbody>\n",
       "</table>\n",
       "</div>"
      ],
      "text/plain": [
       "                                                Text  \\\n",
       "0  Yapay Zeka Nedir, Ne İşe Yarar?\\n\\nYapay zeka ...   \n",
       "1  🔎 Verilerinizi analiz edin: \\nChatGPT'yi kulla...   \n",
       "2  Öncelikle yapay zekanın ne olduğunu, #dijitala...   \n",
       "3  9. Baidu Research: Çin'in önde gelen arama mot...   \n",
       "4  4. Microsoft AI: Microsoft'un yapay zeka tekno...   \n",
       "\n",
       "                                              Text_2  \n",
       "0  [yapay, zeka, nedir, ne, işe, yarar, yapay, ze...  \n",
       "1  [veri, analiz, edin, chatgptyi, kullanarak, do...  \n",
       "2  [öncelik, yapay, zeka, ne, olduğunu, iç, ne, ö...  \n",
       "3  [baidu, research, çin, ön, gele, ara, motor, b...  \n",
       "4  [microsoft, ai, microsoft, yapay, zeka, teknol...  "
      ]
     },
     "execution_count": 60,
     "metadata": {},
     "output_type": "execute_result"
    }
   ],
   "source": [
    "df.head()"
   ]
  },
  {
   "cell_type": "code",
   "execution_count": 61,
   "id": "3a7fc7c4-5192-4cc8-8f95-8d400ab46581",
   "metadata": {},
   "outputs": [],
   "source": [
    "model = Word2Vec(sentences=df[\"Text_2\"].tolist(), vector_size=100, window=5, min_count=1)\n",
    "\n",
    "model.save(\"data/word2Vec.model\")"
   ]
  },
  {
   "cell_type": "code",
   "execution_count": 62,
   "id": "3bb701af-6e2d-4677-b7f2-91c7da7d7c86",
   "metadata": {},
   "outputs": [
    {
     "name": "stdout",
     "output_type": "stream",
     "text": [
      "Word2Vec(vocab=4826, vector_size=100, alpha=0.025)\n"
     ]
    }
   ],
   "source": [
    "print(model)"
   ]
  },
  {
   "cell_type": "code",
   "execution_count": 63,
   "id": "d6d2da32-fde4-47bb-bb2f-c95fafc2455f",
   "metadata": {},
   "outputs": [
    {
     "data": {
      "text/plain": [
       "['dil', 'doğal', 'işle', 've', 'bir', 'yapay']"
      ]
     },
     "execution_count": 63,
     "metadata": {},
     "output_type": "execute_result"
    }
   ],
   "source": [
    "words =list(model.wv.index_to_key)\n",
    "words[0:6]"
   ]
  },
  {
   "cell_type": "code",
   "execution_count": 64,
   "id": "3efb5ac8-5b31-48fb-8375-eb454eca0bb8",
   "metadata": {},
   "outputs": [
    {
     "data": {
      "text/plain": [
       "4826"
      ]
     },
     "execution_count": 64,
     "metadata": {},
     "output_type": "execute_result"
    }
   ],
   "source": [
    "len(words)"
   ]
  },
  {
   "cell_type": "code",
   "execution_count": 65,
   "id": "baac43c6-08c3-49c4-bd58-5bdcbc7674eb",
   "metadata": {},
   "outputs": [
    {
     "data": {
      "text/html": [
       "<div>\n",
       "<style scoped>\n",
       "    .dataframe tbody tr th:only-of-type {\n",
       "        vertical-align: middle;\n",
       "    }\n",
       "\n",
       "    .dataframe tbody tr th {\n",
       "        vertical-align: top;\n",
       "    }\n",
       "\n",
       "    .dataframe thead th {\n",
       "        text-align: right;\n",
       "    }\n",
       "</style>\n",
       "<table border=\"1\" class=\"dataframe\">\n",
       "  <thead>\n",
       "    <tr style=\"text-align: right;\">\n",
       "      <th></th>\n",
       "      <th>Text</th>\n",
       "      <th>Text_2</th>\n",
       "    </tr>\n",
       "  </thead>\n",
       "  <tbody>\n",
       "    <tr>\n",
       "      <th>0</th>\n",
       "      <td>Yapay Zeka Nedir, Ne İşe Yarar?\\n\\nYapay zeka ...</td>\n",
       "      <td>[yapay, zeka, nedir, ne, işe, yarar, yapay, ze...</td>\n",
       "    </tr>\n",
       "    <tr>\n",
       "      <th>1</th>\n",
       "      <td>🔎 Verilerinizi analiz edin: \\nChatGPT'yi kulla...</td>\n",
       "      <td>[veri, analiz, edin, chatgptyi, kullanarak, do...</td>\n",
       "    </tr>\n",
       "    <tr>\n",
       "      <th>2</th>\n",
       "      <td>Öncelikle yapay zekanın ne olduğunu, #dijitala...</td>\n",
       "      <td>[öncelik, yapay, zeka, ne, olduğunu, iç, ne, ö...</td>\n",
       "    </tr>\n",
       "    <tr>\n",
       "      <th>3</th>\n",
       "      <td>9. Baidu Research: Çin'in önde gelen arama mot...</td>\n",
       "      <td>[baidu, research, çin, ön, gele, ara, motor, b...</td>\n",
       "    </tr>\n",
       "    <tr>\n",
       "      <th>4</th>\n",
       "      <td>4. Microsoft AI: Microsoft'un yapay zeka tekno...</td>\n",
       "      <td>[microsoft, ai, microsoft, yapay, zeka, teknol...</td>\n",
       "    </tr>\n",
       "    <tr>\n",
       "      <th>...</th>\n",
       "      <td>...</td>\n",
       "      <td>...</td>\n",
       "    </tr>\n",
       "    <tr>\n",
       "      <th>851</th>\n",
       "      <td>doğal dil işleme alanında yüksek lisans-doktor...</td>\n",
       "      <td>[doğal, dil, işle, alan, yük, lisansdoktor, ya...</td>\n",
       "    </tr>\n",
       "    <tr>\n",
       "      <th>852</th>\n",
       "      <td>dogal dil isleme şeyleri</td>\n",
       "      <td>[dogal, dil, isle, şey]</td>\n",
       "    </tr>\n",
       "    <tr>\n",
       "      <th>853</th>\n",
       "      <td>Bir veri madenciliği ve doğal dil işleme uygul...</td>\n",
       "      <td>[bir, ver, madencilik, ve, doğal, dil, işle, u...</td>\n",
       "    </tr>\n",
       "    <tr>\n",
       "      <th>854</th>\n",
       "      <td>\"Doğal dil işleme\" ile ilgili deneyimi olan ya...</td>\n",
       "      <td>[doğal, dil, işleme, il, ilgil, deney, ola, ya...</td>\n",
       "    </tr>\n",
       "    <tr>\n",
       "      <th>855</th>\n",
       "      <td>Haftaya öğrencilik hayatıma kaldığım yerden de...</td>\n",
       "      <td>[hafta, öğrencilik, hayat, kaldık, yer, deva, ...</td>\n",
       "    </tr>\n",
       "  </tbody>\n",
       "</table>\n",
       "<p>856 rows × 2 columns</p>\n",
       "</div>"
      ],
      "text/plain": [
       "                                                  Text  \\\n",
       "0    Yapay Zeka Nedir, Ne İşe Yarar?\\n\\nYapay zeka ...   \n",
       "1    🔎 Verilerinizi analiz edin: \\nChatGPT'yi kulla...   \n",
       "2    Öncelikle yapay zekanın ne olduğunu, #dijitala...   \n",
       "3    9. Baidu Research: Çin'in önde gelen arama mot...   \n",
       "4    4. Microsoft AI: Microsoft'un yapay zeka tekno...   \n",
       "..                                                 ...   \n",
       "851  doğal dil işleme alanında yüksek lisans-doktor...   \n",
       "852                           dogal dil isleme şeyleri   \n",
       "853  Bir veri madenciliği ve doğal dil işleme uygul...   \n",
       "854  \"Doğal dil işleme\" ile ilgili deneyimi olan ya...   \n",
       "855  Haftaya öğrencilik hayatıma kaldığım yerden de...   \n",
       "\n",
       "                                                Text_2  \n",
       "0    [yapay, zeka, nedir, ne, işe, yarar, yapay, ze...  \n",
       "1    [veri, analiz, edin, chatgptyi, kullanarak, do...  \n",
       "2    [öncelik, yapay, zeka, ne, olduğunu, iç, ne, ö...  \n",
       "3    [baidu, research, çin, ön, gele, ara, motor, b...  \n",
       "4    [microsoft, ai, microsoft, yapay, zeka, teknol...  \n",
       "..                                                 ...  \n",
       "851  [doğal, dil, işle, alan, yük, lisansdoktor, ya...  \n",
       "852                            [dogal, dil, isle, şey]  \n",
       "853  [bir, ver, madencilik, ve, doğal, dil, işle, u...  \n",
       "854  [doğal, dil, işleme, il, ilgil, deney, ola, ya...  \n",
       "855  [hafta, öğrencilik, hayat, kaldık, yer, deva, ...  \n",
       "\n",
       "[856 rows x 2 columns]"
      ]
     },
     "execution_count": 65,
     "metadata": {},
     "output_type": "execute_result"
    }
   ],
   "source": [
    "df"
   ]
  },
  {
   "cell_type": "code",
   "execution_count": 66,
   "id": "0edb1b72-0071-4e84-9f70-aec29a927b02",
   "metadata": {},
   "outputs": [
    {
     "data": {
      "text/plain": [
       "5"
      ]
     },
     "execution_count": 66,
     "metadata": {},
     "output_type": "execute_result"
    }
   ],
   "source": [
    "model.wv.key_to_index[\"yapay\"]"
   ]
  },
  {
   "cell_type": "code",
   "execution_count": 67,
   "id": "03538692-e33c-4b48-b679-b5e751a7229e",
   "metadata": {},
   "outputs": [
    {
     "data": {
      "text/plain": [
       "array([-0.18524356,  0.21469826,  0.03629544, -0.01014072,  0.01765477,\n",
       "       -0.47624508,  0.14012949,  0.5519677 , -0.30714667, -0.2824364 ,\n",
       "       -0.08802172, -0.5203326 , -0.01758309,  0.11713989,  0.11150438,\n",
       "       -0.27390602,  0.09031381, -0.32177562,  0.03341039, -0.63418984,\n",
       "        0.25072974,  0.18478957,  0.29544437, -0.09779063,  0.03256758,\n",
       "        0.04930402, -0.13320094, -0.09949465, -0.253429  , -0.08985803,\n",
       "        0.49631777,  0.04926062,  0.1116979 , -0.36115122, -0.14651515,\n",
       "        0.36187655, -0.0545578 , -0.12858781, -0.17995223, -0.42608848,\n",
       "        0.08418253, -0.27712685, -0.08203477, -0.0966483 ,  0.19077246,\n",
       "       -0.14205836, -0.29832843, -0.13418128,  0.25750148,  0.1694348 ,\n",
       "        0.31392908, -0.22733736, -0.154735  , -0.06413019, -0.24757835,\n",
       "        0.16145654,  0.2620689 , -0.13491416, -0.44561604,  0.05476635,\n",
       "        0.06031324,  0.22540197,  0.18588191, -0.01404681, -0.4301424 ,\n",
       "        0.3492931 , -0.06417709,  0.29806387, -0.36390564,  0.37462512,\n",
       "       -0.09399684,  0.26876885,  0.37151697,  0.00453998,  0.43445483,\n",
       "        0.15641198, -0.00769331,  0.08751933, -0.23030065,  0.05829816,\n",
       "       -0.2664708 , -0.08603042, -0.26149   ,  0.39731833, -0.18101141,\n",
       "       -0.1178327 ,  0.13738756,  0.34788492,  0.2892331 ,  0.04764738,\n",
       "        0.30591905,  0.13992193,  0.20122711,  0.01831483,  0.60990196,\n",
       "        0.38645783,  0.1543474 , -0.29777315, -0.00195023, -0.05003604],\n",
       "      dtype=float32)"
      ]
     },
     "execution_count": 67,
     "metadata": {},
     "output_type": "execute_result"
    }
   ],
   "source": [
    "model.wv[2]"
   ]
  },
  {
   "cell_type": "code",
   "execution_count": 68,
   "id": "a0f97b63-dfab-4851-8e98-41173f22dcfa",
   "metadata": {},
   "outputs": [
    {
     "data": {
      "text/plain": [
       "array([-0.19817445,  0.21538815,  0.04503347, -0.01966085, -0.00128387,\n",
       "       -0.49304023,  0.15036942,  0.5575659 , -0.30801228, -0.2998138 ,\n",
       "       -0.08888129, -0.52275383, -0.03803248,  0.1052799 ,  0.10304686,\n",
       "       -0.28084752,  0.08092272, -0.34323972,  0.04259832, -0.63373494,\n",
       "        0.25337565,  0.19255638,  0.3121956 , -0.07862139,  0.01422262,\n",
       "        0.04878124, -0.13978836, -0.12023374, -0.24579635, -0.08908267,\n",
       "        0.4997357 ,  0.04661682,  0.11659488, -0.36749014, -0.13580358,\n",
       "        0.37547976, -0.04616834, -0.12607901, -0.17634869, -0.4328526 ,\n",
       "        0.10432335, -0.28912804, -0.0878894 , -0.1065731 ,  0.19032039,\n",
       "       -0.15325078, -0.30461374, -0.12229154,  0.26714346,  0.16643251,\n",
       "        0.31807002, -0.23323084, -0.13894725, -0.04656743, -0.24757843,\n",
       "        0.17656378,  0.2775859 , -0.1389334 , -0.44871435,  0.05276701,\n",
       "        0.06470239,  0.23656785,  0.1867773 , -0.02304117, -0.41899997,\n",
       "        0.3404872 , -0.07230968,  0.29801825, -0.36676845,  0.36258656,\n",
       "       -0.09914465,  0.27004382,  0.37623385,  0.00624925,  0.44375083,\n",
       "        0.15850511, -0.03102145,  0.08798433, -0.22740133,  0.06362299,\n",
       "       -0.2608103 , -0.08730575, -0.25079465,  0.39300683, -0.18624291,\n",
       "       -0.12070702,  0.13825421,  0.37129185,  0.27963802,  0.0512555 ,\n",
       "        0.3270113 ,  0.1464653 ,  0.18068716,  0.02185458,  0.615967  ,\n",
       "        0.3882252 ,  0.14739983, -0.30975547, -0.00926592, -0.05012985],\n",
       "      dtype=float32)"
      ]
     },
     "execution_count": 68,
     "metadata": {},
     "output_type": "execute_result"
    }
   ],
   "source": [
    "model.wv.get_vector(\"yapay\")"
   ]
  },
  {
   "cell_type": "code",
   "execution_count": 69,
   "id": "8ec76111-730f-40b6-b269-32e9bc633df1",
   "metadata": {},
   "outputs": [],
   "source": [
    "def word2Vec(value):\n",
    "    model= Word2Vec.load(\"data/word2Vec.model\")\n",
    "    bfr_list =[]\n",
    "    bfr_len =len(value)\n",
    "    \n",
    "    for k in value:\n",
    "        bfr=model.wv.key_to_index[k]\n",
    "        bfr=model.wv[bfr]\n",
    "        bfr_list.append(bfr)\n",
    "        \n",
    "    bfr_list=sum(bfr_list)\n",
    "    bfr_list=bfr_list/bfr_len\n",
    "    return bfr_list.tolist()\n"
   ]
  },
  {
   "cell_type": "code",
   "execution_count": 70,
   "id": "aabc35c3-4a15-4557-a94c-40723be29066",
   "metadata": {},
   "outputs": [
    {
     "data": {
      "text/html": [
       "<div>\n",
       "<style scoped>\n",
       "    .dataframe tbody tr th:only-of-type {\n",
       "        vertical-align: middle;\n",
       "    }\n",
       "\n",
       "    .dataframe tbody tr th {\n",
       "        vertical-align: top;\n",
       "    }\n",
       "\n",
       "    .dataframe thead th {\n",
       "        text-align: right;\n",
       "    }\n",
       "</style>\n",
       "<table border=\"1\" class=\"dataframe\">\n",
       "  <thead>\n",
       "    <tr style=\"text-align: right;\">\n",
       "      <th></th>\n",
       "      <th>Text</th>\n",
       "      <th>Text_2</th>\n",
       "    </tr>\n",
       "  </thead>\n",
       "  <tbody>\n",
       "    <tr>\n",
       "      <th>0</th>\n",
       "      <td>Yapay Zeka Nedir, Ne İşe Yarar?\\n\\nYapay zeka ...</td>\n",
       "      <td>[yapay, zeka, nedir, ne, işe, yarar, yapay, ze...</td>\n",
       "    </tr>\n",
       "    <tr>\n",
       "      <th>1</th>\n",
       "      <td>🔎 Verilerinizi analiz edin: \\nChatGPT'yi kulla...</td>\n",
       "      <td>[veri, analiz, edin, chatgptyi, kullanarak, do...</td>\n",
       "    </tr>\n",
       "    <tr>\n",
       "      <th>2</th>\n",
       "      <td>Öncelikle yapay zekanın ne olduğunu, #dijitala...</td>\n",
       "      <td>[öncelik, yapay, zeka, ne, olduğunu, iç, ne, ö...</td>\n",
       "    </tr>\n",
       "    <tr>\n",
       "      <th>3</th>\n",
       "      <td>9. Baidu Research: Çin'in önde gelen arama mot...</td>\n",
       "      <td>[baidu, research, çin, ön, gele, ara, motor, b...</td>\n",
       "    </tr>\n",
       "    <tr>\n",
       "      <th>4</th>\n",
       "      <td>4. Microsoft AI: Microsoft'un yapay zeka tekno...</td>\n",
       "      <td>[microsoft, ai, microsoft, yapay, zeka, teknol...</td>\n",
       "    </tr>\n",
       "  </tbody>\n",
       "</table>\n",
       "</div>"
      ],
      "text/plain": [
       "                                                Text  \\\n",
       "0  Yapay Zeka Nedir, Ne İşe Yarar?\\n\\nYapay zeka ...   \n",
       "1  🔎 Verilerinizi analiz edin: \\nChatGPT'yi kulla...   \n",
       "2  Öncelikle yapay zekanın ne olduğunu, #dijitala...   \n",
       "3  9. Baidu Research: Çin'in önde gelen arama mot...   \n",
       "4  4. Microsoft AI: Microsoft'un yapay zeka tekno...   \n",
       "\n",
       "                                              Text_2  \n",
       "0  [yapay, zeka, nedir, ne, işe, yarar, yapay, ze...  \n",
       "1  [veri, analiz, edin, chatgptyi, kullanarak, do...  \n",
       "2  [öncelik, yapay, zeka, ne, olduğunu, iç, ne, ö...  \n",
       "3  [baidu, research, çin, ön, gele, ara, motor, b...  \n",
       "4  [microsoft, ai, microsoft, yapay, zeka, teknol...  "
      ]
     },
     "execution_count": 70,
     "metadata": {},
     "output_type": "execute_result"
    }
   ],
   "source": [
    "df.head()"
   ]
  },
  {
   "cell_type": "code",
   "execution_count": 71,
   "id": "6d313f9f-4d14-458f-939f-0ba3cf526ea4",
   "metadata": {},
   "outputs": [],
   "source": [
    "df[\"Text_6\"]=df[\"Text_2\"].apply(word2Vec)"
   ]
  },
  {
   "cell_type": "code",
   "execution_count": 72,
   "id": "b582aa39-e454-46f6-9371-aa75b7b45709",
   "metadata": {},
   "outputs": [
    {
     "data": {
      "text/html": [
       "<div>\n",
       "<style scoped>\n",
       "    .dataframe tbody tr th:only-of-type {\n",
       "        vertical-align: middle;\n",
       "    }\n",
       "\n",
       "    .dataframe tbody tr th {\n",
       "        vertical-align: top;\n",
       "    }\n",
       "\n",
       "    .dataframe thead th {\n",
       "        text-align: right;\n",
       "    }\n",
       "</style>\n",
       "<table border=\"1\" class=\"dataframe\">\n",
       "  <thead>\n",
       "    <tr style=\"text-align: right;\">\n",
       "      <th></th>\n",
       "      <th>Text</th>\n",
       "      <th>Text_2</th>\n",
       "      <th>Text_6</th>\n",
       "    </tr>\n",
       "  </thead>\n",
       "  <tbody>\n",
       "    <tr>\n",
       "      <th>0</th>\n",
       "      <td>Yapay Zeka Nedir, Ne İşe Yarar?\\n\\nYapay zeka ...</td>\n",
       "      <td>[yapay, zeka, nedir, ne, işe, yarar, yapay, ze...</td>\n",
       "      <td>[-0.09494441747665405, 0.1065496876835823, 0.0...</td>\n",
       "    </tr>\n",
       "    <tr>\n",
       "      <th>1</th>\n",
       "      <td>🔎 Verilerinizi analiz edin: \\nChatGPT'yi kulla...</td>\n",
       "      <td>[veri, analiz, edin, chatgptyi, kullanarak, do...</td>\n",
       "      <td>[-0.07026740163564682, 0.08119893819093704, 0....</td>\n",
       "    </tr>\n",
       "    <tr>\n",
       "      <th>2</th>\n",
       "      <td>Öncelikle yapay zekanın ne olduğunu, #dijitala...</td>\n",
       "      <td>[öncelik, yapay, zeka, ne, olduğunu, iç, ne, ö...</td>\n",
       "      <td>[-0.08762014657258987, 0.10008502006530762, 0....</td>\n",
       "    </tr>\n",
       "    <tr>\n",
       "      <th>3</th>\n",
       "      <td>9. Baidu Research: Çin'in önde gelen arama mot...</td>\n",
       "      <td>[baidu, research, çin, ön, gele, ara, motor, b...</td>\n",
       "      <td>[-0.07890002429485321, 0.08727160096168518, 0....</td>\n",
       "    </tr>\n",
       "    <tr>\n",
       "      <th>4</th>\n",
       "      <td>4. Microsoft AI: Microsoft'un yapay zeka tekno...</td>\n",
       "      <td>[microsoft, ai, microsoft, yapay, zeka, teknol...</td>\n",
       "      <td>[-0.11252307146787643, 0.12292587012052536, 0....</td>\n",
       "    </tr>\n",
       "  </tbody>\n",
       "</table>\n",
       "</div>"
      ],
      "text/plain": [
       "                                                Text  \\\n",
       "0  Yapay Zeka Nedir, Ne İşe Yarar?\\n\\nYapay zeka ...   \n",
       "1  🔎 Verilerinizi analiz edin: \\nChatGPT'yi kulla...   \n",
       "2  Öncelikle yapay zekanın ne olduğunu, #dijitala...   \n",
       "3  9. Baidu Research: Çin'in önde gelen arama mot...   \n",
       "4  4. Microsoft AI: Microsoft'un yapay zeka tekno...   \n",
       "\n",
       "                                              Text_2  \\\n",
       "0  [yapay, zeka, nedir, ne, işe, yarar, yapay, ze...   \n",
       "1  [veri, analiz, edin, chatgptyi, kullanarak, do...   \n",
       "2  [öncelik, yapay, zeka, ne, olduğunu, iç, ne, ö...   \n",
       "3  [baidu, research, çin, ön, gele, ara, motor, b...   \n",
       "4  [microsoft, ai, microsoft, yapay, zeka, teknol...   \n",
       "\n",
       "                                              Text_6  \n",
       "0  [-0.09494441747665405, 0.1065496876835823, 0.0...  \n",
       "1  [-0.07026740163564682, 0.08119893819093704, 0....  \n",
       "2  [-0.08762014657258987, 0.10008502006530762, 0....  \n",
       "3  [-0.07890002429485321, 0.08727160096168518, 0....  \n",
       "4  [-0.11252307146787643, 0.12292587012052536, 0....  "
      ]
     },
     "execution_count": 72,
     "metadata": {},
     "output_type": "execute_result"
    }
   ],
   "source": [
    "df.head()"
   ]
  },
  {
   "cell_type": "code",
   "execution_count": null,
   "id": "8b27a171-0b31-47cf-aedc-daaa6f55fdec",
   "metadata": {},
   "outputs": [],
   "source": [
    "df[\"word2Vec\"]=df[\"Text_2\"].apply(on_islem.word2Vec)"
   ]
  },
  {
   "cell_type": "code",
   "execution_count": 73,
   "id": "04b02f35-5182-4c5c-b176-1cbe3bf0453a",
   "metadata": {},
   "outputs": [
    {
     "data": {
      "text/html": [
       "<div>\n",
       "<style scoped>\n",
       "    .dataframe tbody tr th:only-of-type {\n",
       "        vertical-align: middle;\n",
       "    }\n",
       "\n",
       "    .dataframe tbody tr th {\n",
       "        vertical-align: top;\n",
       "    }\n",
       "\n",
       "    .dataframe thead th {\n",
       "        text-align: right;\n",
       "    }\n",
       "</style>\n",
       "<table border=\"1\" class=\"dataframe\">\n",
       "  <thead>\n",
       "    <tr style=\"text-align: right;\">\n",
       "      <th></th>\n",
       "      <th>Text</th>\n",
       "      <th>Text_2</th>\n",
       "      <th>Text_6</th>\n",
       "    </tr>\n",
       "  </thead>\n",
       "  <tbody>\n",
       "    <tr>\n",
       "      <th>0</th>\n",
       "      <td>Yapay Zeka Nedir, Ne İşe Yarar?\\n\\nYapay zeka ...</td>\n",
       "      <td>[yapay, zeka, nedir, ne, işe, yarar, yapay, ze...</td>\n",
       "      <td>[-0.09494441747665405, 0.1065496876835823, 0.0...</td>\n",
       "    </tr>\n",
       "    <tr>\n",
       "      <th>1</th>\n",
       "      <td>🔎 Verilerinizi analiz edin: \\nChatGPT'yi kulla...</td>\n",
       "      <td>[veri, analiz, edin, chatgptyi, kullanarak, do...</td>\n",
       "      <td>[-0.07026740163564682, 0.08119893819093704, 0....</td>\n",
       "    </tr>\n",
       "    <tr>\n",
       "      <th>2</th>\n",
       "      <td>Öncelikle yapay zekanın ne olduğunu, #dijitala...</td>\n",
       "      <td>[öncelik, yapay, zeka, ne, olduğunu, iç, ne, ö...</td>\n",
       "      <td>[-0.08762014657258987, 0.10008502006530762, 0....</td>\n",
       "    </tr>\n",
       "    <tr>\n",
       "      <th>3</th>\n",
       "      <td>9. Baidu Research: Çin'in önde gelen arama mot...</td>\n",
       "      <td>[baidu, research, çin, ön, gele, ara, motor, b...</td>\n",
       "      <td>[-0.07890002429485321, 0.08727160096168518, 0....</td>\n",
       "    </tr>\n",
       "    <tr>\n",
       "      <th>4</th>\n",
       "      <td>4. Microsoft AI: Microsoft'un yapay zeka tekno...</td>\n",
       "      <td>[microsoft, ai, microsoft, yapay, zeka, teknol...</td>\n",
       "      <td>[-0.11252307146787643, 0.12292587012052536, 0....</td>\n",
       "    </tr>\n",
       "  </tbody>\n",
       "</table>\n",
       "</div>"
      ],
      "text/plain": [
       "                                                Text  \\\n",
       "0  Yapay Zeka Nedir, Ne İşe Yarar?\\n\\nYapay zeka ...   \n",
       "1  🔎 Verilerinizi analiz edin: \\nChatGPT'yi kulla...   \n",
       "2  Öncelikle yapay zekanın ne olduğunu, #dijitala...   \n",
       "3  9. Baidu Research: Çin'in önde gelen arama mot...   \n",
       "4  4. Microsoft AI: Microsoft'un yapay zeka tekno...   \n",
       "\n",
       "                                              Text_2  \\\n",
       "0  [yapay, zeka, nedir, ne, işe, yarar, yapay, ze...   \n",
       "1  [veri, analiz, edin, chatgptyi, kullanarak, do...   \n",
       "2  [öncelik, yapay, zeka, ne, olduğunu, iç, ne, ö...   \n",
       "3  [baidu, research, çin, ön, gele, ara, motor, b...   \n",
       "4  [microsoft, ai, microsoft, yapay, zeka, teknol...   \n",
       "\n",
       "                                              Text_6  \n",
       "0  [-0.09494441747665405, 0.1065496876835823, 0.0...  \n",
       "1  [-0.07026740163564682, 0.08119893819093704, 0....  \n",
       "2  [-0.08762014657258987, 0.10008502006530762, 0....  \n",
       "3  [-0.07890002429485321, 0.08727160096168518, 0....  \n",
       "4  [-0.11252307146787643, 0.12292587012052536, 0....  "
      ]
     },
     "execution_count": 73,
     "metadata": {},
     "output_type": "execute_result"
    }
   ],
   "source": [
    "df.head()"
   ]
  },
  {
   "cell_type": "code",
   "execution_count": null,
   "id": "97585cd7-553b-451f-9a90-78a4a0ae47a2",
   "metadata": {},
   "outputs": [],
   "source": []
  },
  {
   "cell_type": "code",
   "execution_count": null,
   "id": "08786201-cc2e-4996-aac0-912a84041cad",
   "metadata": {},
   "outputs": [],
   "source": []
  }
 ],
 "metadata": {
  "kernelspec": {
   "display_name": "Python 3 (ipykernel)",
   "language": "python",
   "name": "python3"
  },
  "language_info": {
   "codemirror_mode": {
    "name": "ipython",
    "version": 3
   },
   "file_extension": ".py",
   "mimetype": "text/x-python",
   "name": "python",
   "nbconvert_exporter": "python",
   "pygments_lexer": "ipython3",
   "version": "3.9.13"
  }
 },
 "nbformat": 4,
 "nbformat_minor": 5
}
